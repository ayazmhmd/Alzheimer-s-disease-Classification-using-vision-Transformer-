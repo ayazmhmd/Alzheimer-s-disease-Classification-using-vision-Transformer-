{
  "cells": [
    {
      "cell_type": "code",
      "execution_count": null,
      "metadata": {
        "id": "zBNrLq4SJnFg",
        "colab": {
          "base_uri": "https://localhost:8080/"
        },
        "outputId": "cac362c5-9911-4a3e-e223-54732a4df1c1"
      },
      "outputs": [
        {
          "output_type": "stream",
          "name": "stdout",
          "text": [
            "\u001b[?25l\r\u001b[K     |▋                               | 10 kB 28.8 MB/s eta 0:00:01\r\u001b[K     |█▏                              | 20 kB 31.1 MB/s eta 0:00:01\r\u001b[K     |█▊                              | 30 kB 37.8 MB/s eta 0:00:01\r\u001b[K     |██▎                             | 40 kB 5.7 MB/s eta 0:00:01\r\u001b[K     |██▉                             | 51 kB 6.9 MB/s eta 0:00:01\r\u001b[K     |███▍                            | 61 kB 8.2 MB/s eta 0:00:01\r\u001b[K     |████                            | 71 kB 6.1 MB/s eta 0:00:01\r\u001b[K     |████▌                           | 81 kB 6.5 MB/s eta 0:00:01\r\u001b[K     |█████▏                          | 92 kB 7.3 MB/s eta 0:00:01\r\u001b[K     |█████▊                          | 102 kB 7.3 MB/s eta 0:00:01\r\u001b[K     |██████▎                         | 112 kB 7.3 MB/s eta 0:00:01\r\u001b[K     |██████▉                         | 122 kB 7.3 MB/s eta 0:00:01\r\u001b[K     |███████▍                        | 133 kB 7.3 MB/s eta 0:00:01\r\u001b[K     |████████                        | 143 kB 7.3 MB/s eta 0:00:01\r\u001b[K     |████████▌                       | 153 kB 7.3 MB/s eta 0:00:01\r\u001b[K     |█████████                       | 163 kB 7.3 MB/s eta 0:00:01\r\u001b[K     |█████████▊                      | 174 kB 7.3 MB/s eta 0:00:01\r\u001b[K     |██████████▎                     | 184 kB 7.3 MB/s eta 0:00:01\r\u001b[K     |██████████▉                     | 194 kB 7.3 MB/s eta 0:00:01\r\u001b[K     |███████████▍                    | 204 kB 7.3 MB/s eta 0:00:01\r\u001b[K     |████████████                    | 215 kB 7.3 MB/s eta 0:00:01\r\u001b[K     |████████████▌                   | 225 kB 7.3 MB/s eta 0:00:01\r\u001b[K     |█████████████                   | 235 kB 7.3 MB/s eta 0:00:01\r\u001b[K     |█████████████▋                  | 245 kB 7.3 MB/s eta 0:00:01\r\u001b[K     |██████████████▎                 | 256 kB 7.3 MB/s eta 0:00:01\r\u001b[K     |██████████████▉                 | 266 kB 7.3 MB/s eta 0:00:01\r\u001b[K     |███████████████▍                | 276 kB 7.3 MB/s eta 0:00:01\r\u001b[K     |████████████████                | 286 kB 7.3 MB/s eta 0:00:01\r\u001b[K     |████████████████▌               | 296 kB 7.3 MB/s eta 0:00:01\r\u001b[K     |█████████████████               | 307 kB 7.3 MB/s eta 0:00:01\r\u001b[K     |█████████████████▋              | 317 kB 7.3 MB/s eta 0:00:01\r\u001b[K     |██████████████████▏             | 327 kB 7.3 MB/s eta 0:00:01\r\u001b[K     |██████████████████▊             | 337 kB 7.3 MB/s eta 0:00:01\r\u001b[K     |███████████████████▍            | 348 kB 7.3 MB/s eta 0:00:01\r\u001b[K     |████████████████████            | 358 kB 7.3 MB/s eta 0:00:01\r\u001b[K     |████████████████████▌           | 368 kB 7.3 MB/s eta 0:00:01\r\u001b[K     |█████████████████████           | 378 kB 7.3 MB/s eta 0:00:01\r\u001b[K     |█████████████████████▋          | 389 kB 7.3 MB/s eta 0:00:01\r\u001b[K     |██████████████████████▏         | 399 kB 7.3 MB/s eta 0:00:01\r\u001b[K     |██████████████████████▊         | 409 kB 7.3 MB/s eta 0:00:01\r\u001b[K     |███████████████████████▎        | 419 kB 7.3 MB/s eta 0:00:01\r\u001b[K     |████████████████████████        | 430 kB 7.3 MB/s eta 0:00:01\r\u001b[K     |████████████████████████▌       | 440 kB 7.3 MB/s eta 0:00:01\r\u001b[K     |█████████████████████████       | 450 kB 7.3 MB/s eta 0:00:01\r\u001b[K     |█████████████████████████▋      | 460 kB 7.3 MB/s eta 0:00:01\r\u001b[K     |██████████████████████████▏     | 471 kB 7.3 MB/s eta 0:00:01\r\u001b[K     |██████████████████████████▊     | 481 kB 7.3 MB/s eta 0:00:01\r\u001b[K     |███████████████████████████▎    | 491 kB 7.3 MB/s eta 0:00:01\r\u001b[K     |███████████████████████████▉    | 501 kB 7.3 MB/s eta 0:00:01\r\u001b[K     |████████████████████████████▌   | 512 kB 7.3 MB/s eta 0:00:01\r\u001b[K     |█████████████████████████████   | 522 kB 7.3 MB/s eta 0:00:01\r\u001b[K     |█████████████████████████████▋  | 532 kB 7.3 MB/s eta 0:00:01\r\u001b[K     |██████████████████████████████▏ | 542 kB 7.3 MB/s eta 0:00:01\r\u001b[K     |██████████████████████████████▊ | 552 kB 7.3 MB/s eta 0:00:01\r\u001b[K     |███████████████████████████████▎| 563 kB 7.3 MB/s eta 0:00:01\r\u001b[K     |███████████████████████████████▉| 573 kB 7.3 MB/s eta 0:00:01\r\u001b[K     |████████████████████████████████| 575 kB 7.3 MB/s \n",
            "\u001b[?25h"
          ]
        }
      ],
      "source": [
        "\n",
        "import numpy as np # linear algebra\n",
        "import pandas as pd # data processing, CSV file I/O (e.g. pd.read_csv)\n",
        "\n",
        "import os\n",
        "\n",
        "import copy\n",
        "import warnings\n",
        "warnings.filterwarnings('ignore')\n",
        "import tensorflow as tf\n",
        "import cv2\n",
        "import keras\n",
        "from tensorflow.keras.preprocessing.image import ImageDataGenerator\n",
        "from tensorflow.keras.preprocessing.image import load_img, img_to_array\n",
        "import matplotlib\n",
        "import matplotlib.pylab as plt\n",
        "import numpy as np\n",
        "import seaborn as sns\n",
        "!pip install --quiet shap\n",
        "import shap\n",
        "from sklearn.utils import shuffle\n",
        "from sklearn.metrics import confusion_matrix\n",
        "from sklearn.model_selection import train_test_split\n",
        "import matplotlib.pyplot as plt\n",
        "from keras.applications.vgg16 import VGG16,preprocess_input\n"
      ]
    },
    {
      "cell_type": "code",
      "execution_count": null,
      "metadata": {
        "colab": {
          "base_uri": "https://localhost:8080/"
        },
        "id": "WHTi22r0L7Sp",
        "outputId": "ef3f6c0e-e2a8-4c0b-9039-0294541bafb5"
      },
      "outputs": [
        {
          "output_type": "stream",
          "name": "stdout",
          "text": [
            "Mounted at /content/drive\n"
          ]
        }
      ],
      "source": [
        "from google.colab import drive\n",
        "drive.mount('/content/drive')"
      ]
    },
    {
      "cell_type": "code",
      "execution_count": null,
      "metadata": {
        "id": "988LKWYOjtMD"
      },
      "outputs": [],
      "source": [
        "import os\n",
        "os.chdir('/content/drive/MyDrive/Alzheimer disease Classification')"
      ]
    },
    {
      "cell_type": "code",
      "execution_count": null,
      "metadata": {
        "id": "yWxY7xr5MLk4"
      },
      "outputs": [],
      "source": [
        "# %%capture\n",
        "# !unzip /content/drive/MyDrive/ADNI/ADNI1_Complete.zip -d /content"
      ]
    },
    {
      "cell_type": "code",
      "execution_count": null,
      "metadata": {
        "id": "1fewz_OWJnFz"
      },
      "outputs": [],
      "source": [
        "W = 128 # The default size for ResNet is 224 but resize to .5 to save memory size\n",
        "H = 128 # The default size for ResNet is 224 but resize to .5 to save memory size\n",
        "\n",
        "label_to_class = {\n",
        "    'Mild_Demented': 0,\n",
        "    'Very_Mild_Demented': 1,\n",
        "    'Non_Demented': 2,\n",
        "    'Moderate_Demented':3,   \n",
        "}\n",
        "class_to_label = {v: k for k, v in label_to_class.items()}\n",
        "n_classes = len(label_to_class)\n",
        "\n",
        "def get_images(dir_name='dataset', label_to_class=label_to_class):\n",
        "    \"\"\"read images / labels from directory\"\"\"\n",
        "    \n",
        "    Images = []\n",
        "    Classes = []\n",
        "    \n",
        "    for j in ['/Dataset']:\n",
        "        for label_name in os.listdir(dir_name+str(j)):\n",
        "            cls = label_to_class[label_name]\n",
        "\n",
        "            for img_name in os.listdir('/'.join([dir_name+str(j), label_name])):\n",
        "                img = load_img('/'.join([dir_name+str(j), label_name, img_name]), target_size=(W, H))\n",
        "                img = img_to_array(img)\n",
        "\n",
        "                Images.append(img)\n",
        "                Classes.append(cls)\n",
        "            \n",
        "    Images = np.array(Images, dtype=np.float32)\n",
        "    Classes = np.array(Classes, dtype=np.float32)\n",
        "    Images, Classes = shuffle(Images, Classes, random_state=0)\n",
        "    \n",
        "    return Images, Classes"
      ]
    },
    {
      "cell_type": "code",
      "execution_count": null,
      "metadata": {
        "colab": {
          "base_uri": "https://localhost:8080/"
        },
        "id": "WX4sLzVlJnF2",
        "outputId": "b856244d-80f0-4992-a9c6-06f6239a4104"
      },
      "outputs": [
        {
          "output_type": "execute_result",
          "data": {
            "text/plain": [
              "((6400, 128, 128, 3), (6400,))"
            ]
          },
          "metadata": {},
          "execution_count": 6
        }
      ],
      "source": [
        "## get images / labels\n",
        "# get_images()\n",
        "Images, Classes = get_images()\n",
        "\n",
        "Images.shape, Classes.shape"
      ]
    },
    {
      "cell_type": "code",
      "execution_count": null,
      "metadata": {
        "colab": {
          "base_uri": "https://localhost:8080/"
        },
        "id": "5ZyCWiCLJnF7",
        "outputId": "5042936d-18ca-49c0-ac05-6c7e0638a20f"
      },
      "outputs": [
        {
          "output_type": "execute_result",
          "data": {
            "text/plain": [
              "array([2., 0., 2., ..., 1., 0., 0.], dtype=float32)"
            ]
          },
          "metadata": {},
          "execution_count": 7
        }
      ],
      "source": [
        "Classes"
      ]
    },
    {
      "cell_type": "code",
      "execution_count": null,
      "metadata": {
        "colab": {
          "base_uri": "https://localhost:8080/"
        },
        "id": "4YG1ozuIJnF-",
        "outputId": "718e2c5a-a656-47af-b881-bca0bfcb5e2b"
      },
      "outputs": [
        {
          "output_type": "execute_result",
          "data": {
            "text/plain": [
              "((5120, 128, 128, 3), (5120,), (1280, 128, 128, 3), (1280,))"
            ]
          },
          "metadata": {},
          "execution_count": 8
        }
      ],
      "source": [
        "## split train / test\n",
        "\n",
        "indices_train, indices_test = train_test_split(list(range(Images.shape[0])), train_size=0.8, test_size=0.2, shuffle=True)\n",
        "\n",
        "x_train = Images[indices_train]\n",
        "y_train = Classes[indices_train]\n",
        "x_test = Images[indices_test]\n",
        "y_test = Classes[indices_test]\n",
        "\n",
        "x_train.shape, y_train.shape, x_test.shape, y_test.shape"
      ]
    },
    {
      "cell_type": "code",
      "execution_count": null,
      "metadata": {
        "colab": {
          "base_uri": "https://localhost:8080/"
        },
        "id": "HT8tcsifJnGE",
        "outputId": "d343037c-1645-4582-da0c-4178745cd29f"
      },
      "outputs": [
        {
          "output_type": "execute_result",
          "data": {
            "text/plain": [
              "array([0., 0., 1., ..., 2., 2., 2.], dtype=float32)"
            ]
          },
          "metadata": {},
          "execution_count": 9
        }
      ],
      "source": [
        "y_test"
      ]
    },
    {
      "cell_type": "code",
      "execution_count": null,
      "metadata": {
        "id": "xoN5US_CJnGH"
      },
      "outputs": [],
      "source": [
        "from keras.utils import np_utils"
      ]
    },
    {
      "cell_type": "code",
      "execution_count": null,
      "metadata": {
        "colab": {
          "base_uri": "https://localhost:8080/"
        },
        "id": "D1Rc61mxJnGK",
        "outputId": "7a8f4bfa-dae9-496a-fb8d-a4a856934d25"
      },
      "outputs": [
        {
          "output_type": "execute_result",
          "data": {
            "text/plain": [
              "((5120, 4), (1280, 4))"
            ]
          },
          "metadata": {},
          "execution_count": 11
        }
      ],
      "source": [
        "y_train = keras.utils.np_utils.to_categorical(y_train, n_classes)\n",
        "y_test = keras.utils.np_utils.to_categorical(y_test, n_classes)\n",
        "\n",
        "y_train.shape, y_test.shape"
      ]
    },
    {
      "cell_type": "code",
      "execution_count": null,
      "metadata": {
        "colab": {
          "base_uri": "https://localhost:8080/"
        },
        "id": "YnrGEdiqJnGN",
        "outputId": "f7383b9b-5613-45c1-caf7-452f6062ecc6"
      },
      "outputs": [
        {
          "output_type": "execute_result",
          "data": {
            "text/plain": [
              "array([[0., 1., 0., 0.],\n",
              "       [0., 0., 1., 0.],\n",
              "       [0., 0., 1., 0.],\n",
              "       ...,\n",
              "       [0., 0., 1., 0.],\n",
              "       [1., 0., 0., 0.],\n",
              "       [0., 1., 0., 0.]], dtype=float32)"
            ]
          },
          "metadata": {},
          "execution_count": 12
        }
      ],
      "source": [
        "y_train"
      ]
    },
    {
      "cell_type": "code",
      "execution_count": null,
      "metadata": {
        "colab": {
          "base_uri": "https://localhost:8080/"
        },
        "id": "8YMEBCm3JnGT",
        "outputId": "1285d204-8d12-433e-e39b-30a903a44c35"
      },
      "outputs": [
        {
          "output_type": "execute_result",
          "data": {
            "text/plain": [
              "array([[1., 0., 0., 0.],\n",
              "       [1., 0., 0., 0.],\n",
              "       [0., 1., 0., 0.],\n",
              "       ...,\n",
              "       [0., 0., 1., 0.],\n",
              "       [0., 0., 1., 0.],\n",
              "       [0., 0., 1., 0.]], dtype=float32)"
            ]
          },
          "metadata": {},
          "execution_count": 13
        }
      ],
      "source": [
        "y_test"
      ]
    },
    {
      "cell_type": "code",
      "execution_count": null,
      "metadata": {
        "colab": {
          "base_uri": "https://localhost:8080/"
        },
        "id": "ZAVopVgVJnGY",
        "outputId": "9b0b2a02-421d-45fd-ead5-907f671fbe8b"
      },
      "outputs": [
        {
          "output_type": "execute_result",
          "data": {
            "text/plain": [
              "((5120, 128, 128, 3), (5120, 4), (1280, 128, 128, 3), (1280, 4))"
            ]
          },
          "metadata": {},
          "execution_count": 14
        }
      ],
      "source": [
        "x_train.shape, y_train.shape, x_test.shape, y_test.shape"
      ]
    },
    {
      "cell_type": "code",
      "execution_count": null,
      "metadata": {
        "colab": {
          "base_uri": "https://localhost:8080/"
        },
        "id": "e6PR_fFtJnGe",
        "outputId": "c1f2f2f0-8677-4daf-9150-432d9f85448c"
      },
      "outputs": [
        {
          "output_type": "stream",
          "name": "stdout",
          "text": [
            "Looking in indexes: https://pypi.org/simple, https://us-python.pkg.dev/colab-wheels/public/simple/\n",
            "Collecting tensorflow-addons\n",
            "  Downloading tensorflow_addons-0.19.0-cp38-cp38-manylinux_2_17_x86_64.manylinux2014_x86_64.whl (1.1 MB)\n",
            "\u001b[K     |████████████████████████████████| 1.1 MB 36.6 MB/s \n",
            "\u001b[?25hRequirement already satisfied: typeguard>=2.7 in /usr/local/lib/python3.8/dist-packages (from tensorflow-addons) (2.7.1)\n",
            "Requirement already satisfied: packaging in /usr/local/lib/python3.8/dist-packages (from tensorflow-addons) (21.3)\n",
            "Requirement already satisfied: pyparsing!=3.0.5,>=2.0.2 in /usr/local/lib/python3.8/dist-packages (from packaging->tensorflow-addons) (3.0.9)\n",
            "Installing collected packages: tensorflow-addons\n",
            "Successfully installed tensorflow-addons-0.19.0\n"
          ]
        }
      ],
      "source": [
        "pip install -U tensorflow-addons"
      ]
    },
    {
      "cell_type": "code",
      "execution_count": null,
      "metadata": {
        "id": "xmcqmKddJnGi"
      },
      "outputs": [],
      "source": [
        "import numpy as np\n",
        "import tensorflow as tf\n",
        "from tensorflow import keras\n",
        "from tensorflow.keras import layers\n",
        "import tensorflow_addons as tfa"
      ]
    },
    {
      "cell_type": "code",
      "execution_count": null,
      "metadata": {
        "id": "U3CXiizsJnGk"
      },
      "outputs": [],
      "source": [
        "num_classes = 4\n",
        "input_shape = (128,128, 3)"
      ]
    },
    {
      "cell_type": "code",
      "execution_count": null,
      "metadata": {
        "colab": {
          "base_uri": "https://localhost:8080/"
        },
        "id": "_y8EcHARJnGn",
        "outputId": "4ae03528-86e2-47cc-92a0-a7feb3e9c425"
      },
      "outputs": [
        {
          "output_type": "execute_result",
          "data": {
            "text/plain": [
              "((5120, 128, 128, 3), (5120, 4), (1280, 128, 128, 3), (1280, 4))"
            ]
          },
          "metadata": {},
          "execution_count": 18
        }
      ],
      "source": [
        "x_train.shape, y_train.shape, x_test.shape, y_test.shape"
      ]
    },
    {
      "cell_type": "code",
      "execution_count": null,
      "metadata": {
        "id": "W2mzwLA-JnGp"
      },
      "outputs": [],
      "source": [
        "learning_rate = 0.001\n",
        "weight_decay = 0.0001\n",
        "batch_size = 256\n",
        "num_epochs = 100\n",
        "image_size = 128  # We'll resize input images to this size\n",
        "patch_size = 6  # Size of the patches to be extract from the input images\n",
        "num_patches = (image_size // patch_size) ** 2\n",
        "projection_dim = 64\n",
        "num_heads = 4\n",
        "transformer_units = [\n",
        "    projection_dim * 2,\n",
        "    projection_dim,\n",
        "]  # Size of the transformer layers\n",
        "transformer_layers = 8\n",
        "mlp_head_units = [2048, 1024] "
      ]
    },
    {
      "cell_type": "code",
      "execution_count": null,
      "metadata": {
        "id": "T7N1Rg31JnGr"
      },
      "outputs": [],
      "source": [
        "data_augmentation = keras.Sequential(\n",
        "    [\n",
        "        layers.Normalization(),\n",
        "        layers.Resizing(image_size, image_size),\n",
        "        layers.RandomFlip(\"horizontal\"),\n",
        "        layers.RandomRotation(factor=0.02),\n",
        "        layers.RandomZoom(\n",
        "            height_factor=0.2, width_factor=0.2\n",
        "        ),\n",
        "    ],\n",
        "    name=\"data_augmentation\",\n",
        ")\n",
        "# Compute the mean and the variance of the training data for normalization.\n",
        "data_augmentation.layers[0].adapt(x_train)"
      ]
    },
    {
      "cell_type": "code",
      "execution_count": null,
      "metadata": {
        "id": "mRPnitRQJnGu"
      },
      "outputs": [],
      "source": [
        "def mlp(x, hidden_units, dropout_rate):\n",
        "    for units in hidden_units:\n",
        "        x = layers.Dense(units, activation=tf.nn.gelu)(x) # GELU activation function\n",
        "        x = layers.Dropout(dropout_rate)(x) # Dropout layer\n",
        "    return x\n"
      ]
    },
    {
      "cell_type": "code",
      "execution_count": null,
      "metadata": {
        "id": "AEEIXDmfJnGx"
      },
      "outputs": [],
      "source": [
        "class Patches(layers.Layer):\n",
        "    def __init__(self, patch_size):\n",
        "        super(Patches, self).__init__()\n",
        "        self.patch_size = patch_size\n",
        "\n",
        "    def call(self, images):\n",
        "        batch_size = tf.shape(images)[0]\n",
        "        patches = tf.image.extract_patches(\n",
        "            images=images,\n",
        "            sizes=[1, self.patch_size, self.patch_size, 1],\n",
        "            strides=[1, self.patch_size, self.patch_size, 1],\n",
        "            rates=[1, 1, 1, 1],\n",
        "            padding=\"VALID\",\n",
        "        )\n",
        "        patch_dims = patches.shape[-1]\n",
        "        patches = tf.reshape(patches, [batch_size, -1, patch_dims])\n",
        "        return patches"
      ]
    },
    {
      "cell_type": "code",
      "execution_count": null,
      "metadata": {
        "colab": {
          "base_uri": "https://localhost:8080/",
          "height": 548
        },
        "id": "KQmv56szJnGz",
        "outputId": "c5d6e260-9333-4180-95a2-e520144f1484"
      },
      "outputs": [
        {
          "output_type": "stream",
          "name": "stdout",
          "text": [
            "Image size: 128 X 128\n",
            "Patch size: 6 X 6\n",
            "Patches per image: 441\n",
            "Elements per patch: 108\n"
          ]
        },
        {
          "output_type": "display_data",
          "data": {
            "text/plain": [
              "<Figure size 288x288 with 1 Axes>"
            ],
            "image/png": "[encoded data removed]"
          },
          "metadata": {
            "needs_background": "light"
          }
        },
        {
          "output_type": "display_data",
          "data": {
            "text/plain": [
              "<Figure size 288x288 with 441 Axes>"
            ],
            "image/png": "[encoded data removed]"
          },
          "metadata": {
            "needs_background": "light"
          }
        }
      ],
      "source": [
        "import matplotlib.pyplot as plt\n",
        "\n",
        "plt.figure(figsize=(4, 4))\n",
        "image = x_train[np.random.choice(range(x_train.shape[0]))]\n",
        "plt.imshow(image.astype(\"uint8\"))\n",
        "plt.axis(\"off\")\n",
        "\n",
        "resized_image = tf.image.resize(\n",
        "    tf.convert_to_tensor([image]), size=(image_size, image_size)\n",
        ")\n",
        "patches = Patches(patch_size)(resized_image)\n",
        "print(f\"Image size: {image_size} X {image_size}\")\n",
        "print(f\"Patch size: {patch_size} X {patch_size}\")\n",
        "print(f\"Patches per image: {patches.shape[1]}\")\n",
        "print(f\"Elements per patch: {patches.shape[-1]}\")\n",
        "\n",
        "n = int(np.sqrt(patches.shape[1]))\n",
        "plt.figure(figsize=(4, 4))\n",
        "for i, patch in enumerate(patches[0]):\n",
        "    ax = plt.subplot(n, n, i + 1)\n",
        "    patch_img = tf.reshape(patch, (patch_size, patch_size, 3))\n",
        "    plt.imshow(patch_img.numpy().astype(\"uint8\"))\n",
        "    plt.axis(\"off\")"
      ]
    },
    {
      "cell_type": "code",
      "execution_count": null,
      "metadata": {
        "id": "nsHSJcJoJnG1"
      },
      "outputs": [],
      "source": [
        "class PatchEncoder(layers.Layer):\n",
        "    def __init__(self, num_patches, projection_dim):\n",
        "        super(PatchEncoder, self).__init__()\n",
        "        self.num_patches = num_patches\n",
        "        self.projection = layers.Dense(units=projection_dim)\n",
        "        self.position_embedding = layers.Embedding(\n",
        "            input_dim=num_patches, output_dim=projection_dim\n",
        "        )\n",
        "\n",
        "    def call(self, patch):\n",
        "        positions = tf.range(start=0, limit=self.num_patches, delta=1)\n",
        "        encoded = self.projection(patch) + self.position_embedding(positions)\n",
        "        return encoded"
      ]
    },
    {
      "cell_type": "code",
      "execution_count": null,
      "metadata": {
        "id": "MsmgA_fKJnG3"
      },
      "outputs": [],
      "source": [
        "def create_vit_classifier():\n",
        "    inputs = layers.Input(shape=input_shape)\n",
        "    # Augment data.\n",
        "    augmented = data_augmentation(inputs)\n",
        "    # Create patches.\n",
        "    patches = Patches(patch_size)(augmented)\n",
        "    # Encode patches.\n",
        "    encoded_patches = PatchEncoder(num_patches, projection_dim)(patches)\n",
        "\n",
        "    # Create multiple layers of the Transformer block.\n",
        "    for _ in range(transformer_layers):\n",
        "        # Layer normalization 1.\n",
        "        x1 = layers.LayerNormalization(epsilon=1e-6)(encoded_patches)\n",
        "        # Create a multi-head attention layer.\n",
        "        attention_output = layers.MultiHeadAttention(\n",
        "            num_heads=num_heads, key_dim=projection_dim, dropout=0.1\n",
        "        )(x1, x1)\n",
        "        # Skip connection 1.\n",
        "        x2 = layers.Add()([attention_output, encoded_patches])\n",
        "        # Layer normalization 2.\n",
        "        x3 = layers.LayerNormalization(epsilon=1e-6)(x2)\n",
        "        # MLP.\n",
        "        x3 = mlp(x3, hidden_units=transformer_units, dropout_rate=0.1)\n",
        "        # Skip connection 2.\n",
        "        encoded_patches = layers.Add()([x3, x2])\n",
        "\n",
        "    # Create a [batch_size, projection_dim] tensor.\n",
        "    representation = layers.LayerNormalization(epsilon=1e-6)(encoded_patches)\n",
        "    representation = layers.Flatten()(representation)\n",
        "    representation = layers.Dropout(0.5)(representation)\n",
        "    # Add MLP.\n",
        "    features = mlp(representation, hidden_units=mlp_head_units, dropout_rate=0.5)\n",
        "    # Classify outputs.\n",
        "    logits = layers.Dense(num_classes, activation=\"sigmoid\")(features)\n",
        "    # Create the Keras model.\n",
        "    model = keras.Model(inputs=inputs, outputs=logits)\n",
        "    return model"
      ]
    },
    {
      "cell_type": "code",
      "execution_count": null,
      "metadata": {
        "id": "wy3HbqHUJnG4"
      },
      "outputs": [],
      "source": [
        "from matplotlib import pyplot\n",
        "from sklearn.metrics import precision_score,recall_score,f1_score,accuracy_score,cohen_kappa_score,roc_auc_score,plot_confusion_matrix,classification_report"
      ]
    },
    {
      "cell_type": "code",
      "execution_count": null,
      "metadata": {
        "colab": {
          "base_uri": "https://localhost:8080/"
        },
        "id": "X-Cu-i3OA00a",
        "outputId": "62091096-b824-4465-fd8b-5444b875fe51"
      },
      "outputs": [
        {
          "output_type": "stream",
          "name": "stdout",
          "text": [
            "Model: \"model\"\n",
            "__________________________________________________________________________________________________\n",
            " Layer (type)                   Output Shape         Param #     Connected to                     \n",
            "==================================================================================================\n",
            " input_1 (InputLayer)           [(None, 128, 128, 3  0           []                               \n",
            "                                )]                                                                \n",
            "                                                                                                  \n",
            " data_augmentation (Sequential)  (None, 128, 128, 3)  7          ['input_1[0][0]']                \n",
            "                                                                                                  \n",
            " patches_1 (Patches)            (None, None, 108)    0           ['data_augmentation[0][0]']      \n",
            "                                                                                                  \n",
            " patch_encoder (PatchEncoder)   (None, 441, 64)      35200       ['patches_1[0][0]']              \n",
            "                                                                                                  \n",
            " layer_normalization (LayerNorm  (None, 441, 64)     128         ['patch_encoder[0][0]']          \n",
            " alization)                                                                                       \n",
            "                                                                                                  \n",
            " multi_head_attention (MultiHea  (None, 441, 64)     66368       ['layer_normalization[0][0]',    \n",
            " dAttention)                                                      'layer_normalization[0][0]']    \n",
            "                                                                                                  \n",
            " add (Add)                      (None, 441, 64)      0           ['multi_head_attention[0][0]',   \n",
            "                                                                  'patch_encoder[0][0]']          \n",
            "                                                                                                  \n",
            " layer_normalization_1 (LayerNo  (None, 441, 64)     128         ['add[0][0]']                    \n",
            " rmalization)                                                                                     \n",
            "                                                                                                  \n",
            " dense_1 (Dense)                (None, 441, 128)     8320        ['layer_normalization_1[0][0]']  \n",
            "                                                                                                  \n",
            " dropout (Dropout)              (None, 441, 128)     0           ['dense_1[0][0]']                \n",
            "                                                                                                  \n",
            " dense_2 (Dense)                (None, 441, 64)      8256        ['dropout[0][0]']                \n",
            "                                                                                                  \n",
            " dropout_1 (Dropout)            (None, 441, 64)      0           ['dense_2[0][0]']                \n",
            "                                                                                                  \n",
            " add_1 (Add)                    (None, 441, 64)      0           ['dropout_1[0][0]',              \n",
            "                                                                  'add[0][0]']                    \n",
            "                                                                                                  \n",
            " layer_normalization_2 (LayerNo  (None, 441, 64)     128         ['add_1[0][0]']                  \n",
            " rmalization)                                                                                     \n",
            "                                                                                                  \n",
            " multi_head_attention_1 (MultiH  (None, 441, 64)     66368       ['layer_normalization_2[0][0]',  \n",
            " eadAttention)                                                    'layer_normalization_2[0][0]']  \n",
            "                                                                                                  \n",
            " add_2 (Add)                    (None, 441, 64)      0           ['multi_head_attention_1[0][0]', \n",
            "                                                                  'add_1[0][0]']                  \n",
            "                                                                                                  \n",
            " layer_normalization_3 (LayerNo  (None, 441, 64)     128         ['add_2[0][0]']                  \n",
            " rmalization)                                                                                     \n",
            "                                                                                                  \n",
            " dense_3 (Dense)                (None, 441, 128)     8320        ['layer_normalization_3[0][0]']  \n",
            "                                                                                                  \n",
            " dropout_2 (Dropout)            (None, 441, 128)     0           ['dense_3[0][0]']                \n",
            "                                                                                                  \n",
            " dense_4 (Dense)                (None, 441, 64)      8256        ['dropout_2[0][0]']              \n",
            "                                                                                                  \n",
            " dropout_3 (Dropout)            (None, 441, 64)      0           ['dense_4[0][0]']                \n",
            "                                                                                                  \n",
            " add_3 (Add)                    (None, 441, 64)      0           ['dropout_3[0][0]',              \n",
            "                                                                  'add_2[0][0]']                  \n",
            "                                                                                                  \n",
            " layer_normalization_4 (LayerNo  (None, 441, 64)     128         ['add_3[0][0]']                  \n",
            " rmalization)                                                                                     \n",
            "                                                                                                  \n",
            " multi_head_attention_2 (MultiH  (None, 441, 64)     66368       ['layer_normalization_4[0][0]',  \n",
            " eadAttention)                                                    'layer_normalization_4[0][0]']  \n",
            "                                                                                                  \n",
            " add_4 (Add)                    (None, 441, 64)      0           ['multi_head_attention_2[0][0]', \n",
            "                                                                  'add_3[0][0]']                  \n",
            "                                                                                                  \n",
            " layer_normalization_5 (LayerNo  (None, 441, 64)     128         ['add_4[0][0]']                  \n",
            " rmalization)                                                                                     \n",
            "                                                                                                  \n",
            " dense_5 (Dense)                (None, 441, 128)     8320        ['layer_normalization_5[0][0]']  \n",
            "                                                                                                  \n",
            " dropout_4 (Dropout)            (None, 441, 128)     0           ['dense_5[0][0]']                \n",
            "                                                                                                  \n",
            " dense_6 (Dense)                (None, 441, 64)      8256        ['dropout_4[0][0]']              \n",
            "                                                                                                  \n",
            " dropout_5 (Dropout)            (None, 441, 64)      0           ['dense_6[0][0]']                \n",
            "                                                                                                  \n",
            " add_5 (Add)                    (None, 441, 64)      0           ['dropout_5[0][0]',              \n",
            "                                                                  'add_4[0][0]']                  \n",
            "                                                                                                  \n",
            " layer_normalization_6 (LayerNo  (None, 441, 64)     128         ['add_5[0][0]']                  \n",
            " rmalization)                                                                                     \n",
            "                                                                                                  \n",
            " multi_head_attention_3 (MultiH  (None, 441, 64)     66368       ['layer_normalization_6[0][0]',  \n",
            " eadAttention)                                                    'layer_normalization_6[0][0]']  \n",
            "                                                                                                  \n",
            " add_6 (Add)                    (None, 441, 64)      0           ['multi_head_attention_3[0][0]', \n",
            "                                                                  'add_5[0][0]']                  \n",
            "                                                                                                  \n",
            " layer_normalization_7 (LayerNo  (None, 441, 64)     128         ['add_6[0][0]']                  \n",
            " rmalization)                                                                                     \n",
            "                                                                                                  \n",
            " dense_7 (Dense)                (None, 441, 128)     8320        ['layer_normalization_7[0][0]']  \n",
            "                                                                                                  \n",
            " dropout_6 (Dropout)            (None, 441, 128)     0           ['dense_7[0][0]']                \n",
            "                                                                                                  \n",
            " dense_8 (Dense)                (None, 441, 64)      8256        ['dropout_6[0][0]']              \n",
            "                                                                                                  \n",
            " dropout_7 (Dropout)            (None, 441, 64)      0           ['dense_8[0][0]']                \n",
            "                                                                                                  \n",
            " add_7 (Add)                    (None, 441, 64)      0           ['dropout_7[0][0]',              \n",
            "                                                                  'add_6[0][0]']                  \n",
            "                                                                                                  \n",
            " layer_normalization_8 (LayerNo  (None, 441, 64)     128         ['add_7[0][0]']                  \n",
            " rmalization)                                                                                     \n",
            "                                                                                                  \n",
            " multi_head_attention_4 (MultiH  (None, 441, 64)     66368       ['layer_normalization_8[0][0]',  \n",
            " eadAttention)                                                    'layer_normalization_8[0][0]']  \n",
            "                                                                                                  \n",
            " add_8 (Add)                    (None, 441, 64)      0           ['multi_head_attention_4[0][0]', \n",
            "                                                                  'add_7[0][0]']                  \n",
            "                                                                                                  \n",
            " layer_normalization_9 (LayerNo  (None, 441, 64)     128         ['add_8[0][0]']                  \n",
            " rmalization)                                                                                     \n",
            "                                                                                                  \n",
            " dense_9 (Dense)                (None, 441, 128)     8320        ['layer_normalization_9[0][0]']  \n",
            "                                                                                                  \n",
            " dropout_8 (Dropout)            (None, 441, 128)     0           ['dense_9[0][0]']                \n",
            "                                                                                                  \n",
            " dense_10 (Dense)               (None, 441, 64)      8256        ['dropout_8[0][0]']              \n",
            "                                                                                                  \n",
            " dropout_9 (Dropout)            (None, 441, 64)      0           ['dense_10[0][0]']               \n",
            "                                                                                                  \n",
            " add_9 (Add)                    (None, 441, 64)      0           ['dropout_9[0][0]',              \n",
            "                                                                  'add_8[0][0]']                  \n",
            "                                                                                                  \n",
            " layer_normalization_10 (LayerN  (None, 441, 64)     128         ['add_9[0][0]']                  \n",
            " ormalization)                                                                                    \n",
            "                                                                                                  \n",
            " multi_head_attention_5 (MultiH  (None, 441, 64)     66368       ['layer_normalization_10[0][0]', \n",
            " eadAttention)                                                    'layer_normalization_10[0][0]'] \n",
            "                                                                                                  \n",
            " add_10 (Add)                   (None, 441, 64)      0           ['multi_head_attention_5[0][0]', \n",
            "                                                                  'add_9[0][0]']                  \n",
            "                                                                                                  \n",
            " layer_normalization_11 (LayerN  (None, 441, 64)     128         ['add_10[0][0]']                 \n",
            " ormalization)                                                                                    \n",
            "                                                                                                  \n",
            " dense_11 (Dense)               (None, 441, 128)     8320        ['layer_normalization_11[0][0]'] \n",
            "                                                                                                  \n",
            " dropout_10 (Dropout)           (None, 441, 128)     0           ['dense_11[0][0]']               \n",
            "                                                                                                  \n",
            " dense_12 (Dense)               (None, 441, 64)      8256        ['dropout_10[0][0]']             \n",
            "                                                                                                  \n",
            " dropout_11 (Dropout)           (None, 441, 64)      0           ['dense_12[0][0]']               \n",
            "                                                                                                  \n",
            " add_11 (Add)                   (None, 441, 64)      0           ['dropout_11[0][0]',             \n",
            "                                                                  'add_10[0][0]']                 \n",
            "                                                                                                  \n",
            " layer_normalization_12 (LayerN  (None, 441, 64)     128         ['add_11[0][0]']                 \n",
            " ormalization)                                                                                    \n",
            "                                                                                                  \n",
            " multi_head_attention_6 (MultiH  (None, 441, 64)     66368       ['layer_normalization_12[0][0]', \n",
            " eadAttention)                                                    'layer_normalization_12[0][0]'] \n",
            "                                                                                                  \n",
            " add_12 (Add)                   (None, 441, 64)      0           ['multi_head_attention_6[0][0]', \n",
            "                                                                  'add_11[0][0]']                 \n",
            "                                                                                                  \n",
            " layer_normalization_13 (LayerN  (None, 441, 64)     128         ['add_12[0][0]']                 \n",
            " ormalization)                                                                                    \n",
            "                                                                                                  \n",
            " dense_13 (Dense)               (None, 441, 128)     8320        ['layer_normalization_13[0][0]'] \n",
            "                                                                                                  \n",
            " dropout_12 (Dropout)           (None, 441, 128)     0           ['dense_13[0][0]']               \n",
            "                                                                                                  \n",
            " dense_14 (Dense)               (None, 441, 64)      8256        ['dropout_12[0][0]']             \n",
            "                                                                                                  \n",
            " dropout_13 (Dropout)           (None, 441, 64)      0           ['dense_14[0][0]']               \n",
            "                                                                                                  \n",
            " add_13 (Add)                   (None, 441, 64)      0           ['dropout_13[0][0]',             \n",
            "                                                                  'add_12[0][0]']                 \n",
            "                                                                                                  \n",
            " layer_normalization_14 (LayerN  (None, 441, 64)     128         ['add_13[0][0]']                 \n",
            " ormalization)                                                                                    \n",
            "                                                                                                  \n",
            " multi_head_attention_7 (MultiH  (None, 441, 64)     66368       ['layer_normalization_14[0][0]', \n",
            " eadAttention)                                                    'layer_normalization_14[0][0]'] \n",
            "                                                                                                  \n",
            " add_14 (Add)                   (None, 441, 64)      0           ['multi_head_attention_7[0][0]', \n",
            "                                                                  'add_13[0][0]']                 \n",
            "                                                                                                  \n",
            " layer_normalization_15 (LayerN  (None, 441, 64)     128         ['add_14[0][0]']                 \n",
            " ormalization)                                                                                    \n",
            "                                                                                                  \n",
            " dense_15 (Dense)               (None, 441, 128)     8320        ['layer_normalization_15[0][0]'] \n",
            "                                                                                                  \n",
            " dropout_14 (Dropout)           (None, 441, 128)     0           ['dense_15[0][0]']               \n",
            "                                                                                                  \n",
            " dense_16 (Dense)               (None, 441, 64)      8256        ['dropout_14[0][0]']             \n",
            "                                                                                                  \n",
            " dropout_15 (Dropout)           (None, 441, 64)      0           ['dense_16[0][0]']               \n",
            "                                                                                                  \n",
            " add_15 (Add)                   (None, 441, 64)      0           ['dropout_15[0][0]',             \n",
            "                                                                  'add_14[0][0]']                 \n",
            "                                                                                                  \n",
            " layer_normalization_16 (LayerN  (None, 441, 64)     128         ['add_15[0][0]']                 \n",
            " ormalization)                                                                                    \n",
            "                                                                                                  \n",
            " flatten (Flatten)              (None, 28224)        0           ['layer_normalization_16[0][0]'] \n",
            "                                                                                                  \n",
            " dropout_16 (Dropout)           (None, 28224)        0           ['flatten[0][0]']                \n",
            "                                                                                                  \n",
            " dense_17 (Dense)               (None, 2048)         57804800    ['dropout_16[0][0]']             \n",
            "                                                                                                  \n",
            " dropout_17 (Dropout)           (None, 2048)         0           ['dense_17[0][0]']               \n",
            "                                                                                                  \n",
            " dense_18 (Dense)               (None, 1024)         2098176     ['dropout_17[0][0]']             \n",
            "                                                                                                  \n",
            " dropout_18 (Dropout)           (None, 1024)         0           ['dense_18[0][0]']               \n",
            "                                                                                                  \n",
            " dense_19 (Dense)               (None, 4)            4100        ['dropout_18[0][0]']             \n",
            "                                                                                                  \n",
            "==================================================================================================\n",
            "Total params: 60,608,011\n",
            "Trainable params: 60,608,004\n",
            "Non-trainable params: 7\n",
            "__________________________________________________________________________________________________\n",
            "Epoch 1/200\n",
            "240/240 [==============================] - 54s 157ms/step - loss: 2.4114 - accuracy: 0.4224 - val_loss: 1.2378 - val_accuracy: 0.5383\n",
            "Epoch 2/200\n",
            "240/240 [==============================] - 37s 154ms/step - loss: 1.3829 - accuracy: 0.4534 - val_loss: 0.9747 - val_accuracy: 0.5336\n",
            "Epoch 3/200\n",
            "240/240 [==============================] - 37s 153ms/step - loss: 1.1553 - accuracy: 0.4904 - val_loss: 0.9295 - val_accuracy: 0.5352\n",
            "Epoch 4/200\n",
            "240/240 [==============================] - 37s 154ms/step - loss: 1.0838 - accuracy: 0.5036 - val_loss: 0.9765 - val_accuracy: 0.5156\n",
            "Epoch 5/200\n",
            "240/240 [==============================] - 37s 154ms/step - loss: 1.0357 - accuracy: 0.5141 - val_loss: 0.9348 - val_accuracy: 0.5422\n",
            "Epoch 6/200\n",
            "240/240 [==============================] - 39s 162ms/step - loss: 1.0239 - accuracy: 0.5068 - val_loss: 0.9443 - val_accuracy: 0.5391\n",
            "Epoch 7/200\n",
            "240/240 [==============================] - 37s 156ms/step - loss: 0.9958 - accuracy: 0.5232 - val_loss: 0.9293 - val_accuracy: 0.5430\n",
            "Epoch 8/200\n",
            "240/240 [==============================] - 37s 153ms/step - loss: 0.9935 - accuracy: 0.5253 - val_loss: 0.9491 - val_accuracy: 0.5570\n",
            "Epoch 9/200\n",
            "240/240 [==============================] - 39s 162ms/step - loss: 0.9826 - accuracy: 0.5193 - val_loss: 0.9274 - val_accuracy: 0.5602\n",
            "Epoch 10/200\n",
            "240/240 [==============================] - 39s 163ms/step - loss: 0.9707 - accuracy: 0.5245 - val_loss: 0.8887 - val_accuracy: 0.5469\n",
            "Epoch 11/200\n",
            "240/240 [==============================] - 39s 163ms/step - loss: 0.9529 - accuracy: 0.5404 - val_loss: 0.9050 - val_accuracy: 0.5688\n",
            "Epoch 12/200\n",
            "240/240 [==============================] - 39s 163ms/step - loss: 0.9521 - accuracy: 0.5292 - val_loss: 0.9036 - val_accuracy: 0.5484\n",
            "Epoch 13/200\n",
            "240/240 [==============================] - 37s 154ms/step - loss: 0.9543 - accuracy: 0.5286 - val_loss: 0.8771 - val_accuracy: 0.5586\n",
            "Epoch 14/200\n",
            "240/240 [==============================] - 39s 162ms/step - loss: 0.9515 - accuracy: 0.5253 - val_loss: 0.8810 - val_accuracy: 0.5555\n",
            "Epoch 15/200\n",
            "240/240 [==============================] - 39s 163ms/step - loss: 0.9420 - accuracy: 0.5245 - val_loss: 0.8910 - val_accuracy: 0.5453\n",
            "Epoch 16/200\n",
            "240/240 [==============================] - 37s 153ms/step - loss: 0.9468 - accuracy: 0.5333 - val_loss: 0.8731 - val_accuracy: 0.5617\n",
            "Epoch 17/200\n",
            "240/240 [==============================] - 37s 153ms/step - loss: 0.9502 - accuracy: 0.5375 - val_loss: 0.9033 - val_accuracy: 0.5453\n",
            "Epoch 18/200\n",
            "240/240 [==============================] - 37s 156ms/step - loss: 0.9271 - accuracy: 0.5430 - val_loss: 0.9095 - val_accuracy: 0.5453\n",
            "Epoch 19/200\n",
            "240/240 [==============================] - 39s 162ms/step - loss: 0.9285 - accuracy: 0.5393 - val_loss: 0.8679 - val_accuracy: 0.5625\n",
            "Epoch 20/200\n",
            "240/240 [==============================] - 39s 163ms/step - loss: 0.9237 - accuracy: 0.5440 - val_loss: 0.8808 - val_accuracy: 0.5602\n",
            "Epoch 21/200\n",
            "240/240 [==============================] - 37s 154ms/step - loss: 0.9195 - accuracy: 0.5523 - val_loss: 0.8637 - val_accuracy: 0.5680\n",
            "Epoch 22/200\n",
            "240/240 [==============================] - 37s 154ms/step - loss: 0.9201 - accuracy: 0.5492 - val_loss: 0.8596 - val_accuracy: 0.5688\n",
            "Epoch 23/200\n",
            "240/240 [==============================] - 37s 153ms/step - loss: 0.9133 - accuracy: 0.5362 - val_loss: 0.8580 - val_accuracy: 0.5672\n",
            "Epoch 24/200\n",
            "240/240 [==============================] - 37s 156ms/step - loss: 0.9088 - accuracy: 0.5516 - val_loss: 0.8810 - val_accuracy: 0.5445\n",
            "Epoch 25/200\n",
            "240/240 [==============================] - 37s 153ms/step - loss: 0.8965 - accuracy: 0.5487 - val_loss: 0.8644 - val_accuracy: 0.5578\n",
            "Epoch 26/200\n",
            "240/240 [==============================] - 39s 163ms/step - loss: 0.9039 - accuracy: 0.5479 - val_loss: 0.8391 - val_accuracy: 0.5789\n",
            "Epoch 27/200\n",
            "240/240 [==============================] - 39s 162ms/step - loss: 0.9013 - accuracy: 0.5513 - val_loss: 0.8470 - val_accuracy: 0.5695\n",
            "Epoch 28/200\n",
            "240/240 [==============================] - 37s 153ms/step - loss: 0.8958 - accuracy: 0.5547 - val_loss: 0.8575 - val_accuracy: 0.5797\n",
            "Epoch 29/200\n",
            "240/240 [==============================] - 39s 163ms/step - loss: 0.8867 - accuracy: 0.5604 - val_loss: 0.8653 - val_accuracy: 0.5469\n",
            "Epoch 30/200\n",
            "240/240 [==============================] - 37s 154ms/step - loss: 0.8996 - accuracy: 0.5453 - val_loss: 0.8581 - val_accuracy: 0.5625\n",
            "Epoch 31/200\n",
            "240/240 [==============================] - 39s 163ms/step - loss: 0.8817 - accuracy: 0.5641 - val_loss: 0.8426 - val_accuracy: 0.5727\n",
            "Epoch 32/200\n",
            "240/240 [==============================] - 37s 154ms/step - loss: 0.8717 - accuracy: 0.5695 - val_loss: 0.8457 - val_accuracy: 0.5859\n",
            "Epoch 33/200\n",
            "240/240 [==============================] - 37s 154ms/step - loss: 0.8897 - accuracy: 0.5628 - val_loss: 0.8342 - val_accuracy: 0.5813\n",
            "Epoch 34/200\n",
            "240/240 [==============================] - 37s 154ms/step - loss: 0.8682 - accuracy: 0.5737 - val_loss: 0.8346 - val_accuracy: 0.5805\n",
            "Epoch 35/200\n",
            "240/240 [==============================] - 37s 156ms/step - loss: 0.8780 - accuracy: 0.5549 - val_loss: 0.8317 - val_accuracy: 0.5828\n",
            "Epoch 36/200\n",
            "240/240 [==============================] - 37s 153ms/step - loss: 0.8767 - accuracy: 0.5549 - val_loss: 0.8468 - val_accuracy: 0.5945\n",
            "Epoch 37/200\n",
            "240/240 [==============================] - 39s 163ms/step - loss: 0.8667 - accuracy: 0.5740 - val_loss: 0.8286 - val_accuracy: 0.5789\n",
            "Epoch 38/200\n",
            "240/240 [==============================] - 37s 153ms/step - loss: 0.8745 - accuracy: 0.5635 - val_loss: 0.8229 - val_accuracy: 0.6023\n",
            "Epoch 39/200\n",
            "240/240 [==============================] - 37s 154ms/step - loss: 0.8676 - accuracy: 0.5630 - val_loss: 0.8305 - val_accuracy: 0.5984\n",
            "Epoch 40/200\n",
            "240/240 [==============================] - 37s 153ms/step - loss: 0.8681 - accuracy: 0.5646 - val_loss: 0.8479 - val_accuracy: 0.5820\n",
            "Epoch 41/200\n",
            "240/240 [==============================] - 37s 156ms/step - loss: 0.8552 - accuracy: 0.5638 - val_loss: 0.8421 - val_accuracy: 0.5742\n",
            "Epoch 42/200\n",
            "240/240 [==============================] - 39s 163ms/step - loss: 0.8557 - accuracy: 0.5615 - val_loss: 0.8298 - val_accuracy: 0.5781\n",
            "Epoch 43/200\n",
            "240/240 [==============================] - 37s 153ms/step - loss: 0.8602 - accuracy: 0.5706 - val_loss: 0.8241 - val_accuracy: 0.5813\n",
            "Epoch 44/200\n",
            "240/240 [==============================] - 37s 153ms/step - loss: 0.8542 - accuracy: 0.5703 - val_loss: 0.8722 - val_accuracy: 0.5680\n",
            "Epoch 45/200\n",
            "240/240 [==============================] - 39s 162ms/step - loss: 0.8396 - accuracy: 0.5740 - val_loss: 0.8753 - val_accuracy: 0.5766\n",
            "Epoch 46/200\n",
            "240/240 [==============================] - 39s 163ms/step - loss: 0.8439 - accuracy: 0.5654 - val_loss: 0.8592 - val_accuracy: 0.5930\n",
            "Epoch 47/200\n",
            "240/240 [==============================] - 37s 155ms/step - loss: 0.8457 - accuracy: 0.5711 - val_loss: 0.8202 - val_accuracy: 0.5984\n",
            "Epoch 48/200\n",
            "240/240 [==============================] - 39s 163ms/step - loss: 0.8352 - accuracy: 0.5794 - val_loss: 0.7995 - val_accuracy: 0.5938\n",
            "Epoch 49/200\n",
            "240/240 [==============================] - 37s 153ms/step - loss: 0.8374 - accuracy: 0.5729 - val_loss: 0.8641 - val_accuracy: 0.5813\n",
            "Epoch 50/200\n",
            "240/240 [==============================] - 37s 153ms/step - loss: 0.8411 - accuracy: 0.5742 - val_loss: 0.8194 - val_accuracy: 0.5828\n",
            "Epoch 51/200\n",
            "240/240 [==============================] - 37s 153ms/step - loss: 0.8371 - accuracy: 0.5784 - val_loss: 0.8085 - val_accuracy: 0.5984\n",
            "Epoch 52/200\n",
            "240/240 [==============================] - 39s 163ms/step - loss: 0.8368 - accuracy: 0.5740 - val_loss: 0.8195 - val_accuracy: 0.5844\n",
            "Epoch 53/200\n",
            "240/240 [==============================] - 39s 162ms/step - loss: 0.8416 - accuracy: 0.5815 - val_loss: 0.8433 - val_accuracy: 0.5797\n",
            "Epoch 54/200\n",
            "240/240 [==============================] - 39s 162ms/step - loss: 0.8352 - accuracy: 0.5820 - val_loss: 0.7960 - val_accuracy: 0.6266\n",
            "Epoch 55/200\n",
            "240/240 [==============================] - 39s 162ms/step - loss: 0.8346 - accuracy: 0.5732 - val_loss: 0.7847 - val_accuracy: 0.6062\n",
            "Epoch 56/200\n",
            "240/240 [==============================] - 38s 156ms/step - loss: 0.8232 - accuracy: 0.5872 - val_loss: 0.7885 - val_accuracy: 0.6031\n",
            "Epoch 57/200\n",
            "240/240 [==============================] - 37s 154ms/step - loss: 0.8271 - accuracy: 0.5857 - val_loss: 0.8031 - val_accuracy: 0.6023\n",
            "Epoch 58/200\n",
            "240/240 [==============================] - 39s 162ms/step - loss: 0.8186 - accuracy: 0.5979 - val_loss: 0.7741 - val_accuracy: 0.6211\n",
            "Epoch 59/200\n",
            "240/240 [==============================] - 37s 153ms/step - loss: 0.8246 - accuracy: 0.5885 - val_loss: 0.8008 - val_accuracy: 0.5977\n",
            "Epoch 60/200\n",
            "240/240 [==============================] - 37s 153ms/step - loss: 0.8235 - accuracy: 0.5891 - val_loss: 0.7879 - val_accuracy: 0.6102\n",
            "Epoch 61/200\n",
            "240/240 [==============================] - 37s 153ms/step - loss: 0.8164 - accuracy: 0.5904 - val_loss: 0.7973 - val_accuracy: 0.6148\n",
            "Epoch 62/200\n",
            "240/240 [==============================] - 39s 163ms/step - loss: 0.8107 - accuracy: 0.5932 - val_loss: 0.8197 - val_accuracy: 0.5805\n",
            "Epoch 63/200\n",
            "240/240 [==============================] - 39s 163ms/step - loss: 0.8104 - accuracy: 0.5938 - val_loss: 0.7856 - val_accuracy: 0.6156\n",
            "Epoch 64/200\n",
            "240/240 [==============================] - 39s 163ms/step - loss: 0.8170 - accuracy: 0.5930 - val_loss: 0.7679 - val_accuracy: 0.6148\n",
            "Epoch 65/200\n",
            "240/240 [==============================] - 37s 153ms/step - loss: 0.8055 - accuracy: 0.5924 - val_loss: 0.7874 - val_accuracy: 0.6078\n",
            "Epoch 66/200\n",
            "240/240 [==============================] - 37s 153ms/step - loss: 0.8121 - accuracy: 0.5911 - val_loss: 0.7689 - val_accuracy: 0.6203\n",
            "Epoch 67/200\n",
            "240/240 [==============================] - 39s 164ms/step - loss: 0.8096 - accuracy: 0.6086 - val_loss: 0.7811 - val_accuracy: 0.6227\n",
            "Epoch 68/200\n",
            "240/240 [==============================] - 39s 162ms/step - loss: 0.8008 - accuracy: 0.5969 - val_loss: 0.7682 - val_accuracy: 0.6297\n",
            "Epoch 69/200\n",
            "240/240 [==============================] - 39s 163ms/step - loss: 0.8039 - accuracy: 0.6036 - val_loss: 0.7753 - val_accuracy: 0.6242\n",
            "Epoch 70/200\n",
            "240/240 [==============================] - 37s 153ms/step - loss: 0.8014 - accuracy: 0.6018 - val_loss: 0.7681 - val_accuracy: 0.6242\n",
            "Epoch 71/200\n",
            "240/240 [==============================] - 39s 162ms/step - loss: 0.7810 - accuracy: 0.6128 - val_loss: 0.7666 - val_accuracy: 0.6438\n",
            "Epoch 72/200\n",
            "240/240 [==============================] - 37s 156ms/step - loss: 0.7849 - accuracy: 0.6135 - val_loss: 0.8081 - val_accuracy: 0.5773\n",
            "Epoch 73/200\n",
            "240/240 [==============================] - 39s 162ms/step - loss: 0.7882 - accuracy: 0.6128 - val_loss: 0.7850 - val_accuracy: 0.6094\n",
            "Epoch 74/200\n",
            "240/240 [==============================] - 39s 163ms/step - loss: 0.7875 - accuracy: 0.6135 - val_loss: 0.7394 - val_accuracy: 0.6555\n",
            "Epoch 75/200\n",
            "240/240 [==============================] - 39s 162ms/step - loss: 0.7857 - accuracy: 0.6016 - val_loss: 0.7708 - val_accuracy: 0.6250\n",
            "Epoch 76/200\n",
            "240/240 [==============================] - 37s 153ms/step - loss: 0.7964 - accuracy: 0.6148 - val_loss: 0.7707 - val_accuracy: 0.6164\n",
            "Epoch 77/200\n",
            "240/240 [==============================] - 39s 164ms/step - loss: 0.7740 - accuracy: 0.6245 - val_loss: 0.7450 - val_accuracy: 0.6492\n",
            "Epoch 78/200\n",
            "240/240 [==============================] - 37s 154ms/step - loss: 0.7697 - accuracy: 0.6135 - val_loss: 0.7749 - val_accuracy: 0.6289\n",
            "Epoch 79/200\n",
            "240/240 [==============================] - 39s 163ms/step - loss: 0.7757 - accuracy: 0.6250 - val_loss: 0.7350 - val_accuracy: 0.6578\n",
            "Epoch 80/200\n",
            "240/240 [==============================] - 39s 162ms/step - loss: 0.7727 - accuracy: 0.6250 - val_loss: 0.7467 - val_accuracy: 0.6328\n",
            "Epoch 81/200\n",
            "240/240 [==============================] - 37s 153ms/step - loss: 0.7758 - accuracy: 0.6159 - val_loss: 0.8062 - val_accuracy: 0.5938\n",
            "Epoch 82/200\n",
            "240/240 [==============================] - 39s 162ms/step - loss: 0.7691 - accuracy: 0.6245 - val_loss: 0.7314 - val_accuracy: 0.6562\n",
            "Epoch 83/200\n",
            "240/240 [==============================] - 37s 156ms/step - loss: 0.7669 - accuracy: 0.6221 - val_loss: 0.7205 - val_accuracy: 0.6609\n",
            "Epoch 84/200\n",
            "240/240 [==============================] - 39s 162ms/step - loss: 0.7547 - accuracy: 0.6326 - val_loss: 0.7266 - val_accuracy: 0.6609\n",
            "Epoch 85/200\n",
            "240/240 [==============================] - 39s 163ms/step - loss: 0.7623 - accuracy: 0.6284 - val_loss: 0.7355 - val_accuracy: 0.6633\n",
            "Epoch 86/200\n",
            "240/240 [==============================] - 39s 162ms/step - loss: 0.7526 - accuracy: 0.6297 - val_loss: 0.7357 - val_accuracy: 0.6602\n",
            "Epoch 87/200\n",
            "240/240 [==============================] - 39s 162ms/step - loss: 0.7524 - accuracy: 0.6286 - val_loss: 0.7340 - val_accuracy: 0.6547\n",
            "Epoch 88/200\n",
            "240/240 [==============================] - 39s 164ms/step - loss: 0.7465 - accuracy: 0.6344 - val_loss: 0.7040 - val_accuracy: 0.6898\n",
            "Epoch 89/200\n",
            "240/240 [==============================] - 39s 162ms/step - loss: 0.7514 - accuracy: 0.6310 - val_loss: 0.7284 - val_accuracy: 0.6617\n",
            "Epoch 90/200\n",
            "240/240 [==============================] - 37s 154ms/step - loss: 0.7499 - accuracy: 0.6352 - val_loss: 0.7737 - val_accuracy: 0.6344\n",
            "Epoch 91/200\n",
            "240/240 [==============================] - 39s 162ms/step - loss: 0.7492 - accuracy: 0.6370 - val_loss: 0.7329 - val_accuracy: 0.6648\n",
            "Epoch 92/200\n",
            "240/240 [==============================] - 39s 162ms/step - loss: 0.7440 - accuracy: 0.6383 - val_loss: 0.6988 - val_accuracy: 0.6953\n",
            "Epoch 93/200\n",
            "240/240 [==============================] - 39s 162ms/step - loss: 0.7545 - accuracy: 0.6242 - val_loss: 0.7334 - val_accuracy: 0.6680\n",
            "Epoch 94/200\n",
            "240/240 [==============================] - 39s 164ms/step - loss: 0.7439 - accuracy: 0.6359 - val_loss: 0.7155 - val_accuracy: 0.6695\n",
            "Epoch 95/200\n",
            "240/240 [==============================] - 37s 153ms/step - loss: 0.7313 - accuracy: 0.6492 - val_loss: 0.6832 - val_accuracy: 0.6914\n",
            "Epoch 96/200\n",
            "240/240 [==============================] - 40s 165ms/step - loss: 0.7222 - accuracy: 0.6526 - val_loss: 0.7113 - val_accuracy: 0.6875\n",
            "Epoch 97/200\n",
            "240/240 [==============================] - 39s 162ms/step - loss: 0.7306 - accuracy: 0.6396 - val_loss: 0.7091 - val_accuracy: 0.6922\n",
            "Epoch 98/200\n",
            "240/240 [==============================] - 39s 162ms/step - loss: 0.7250 - accuracy: 0.6461 - val_loss: 0.6790 - val_accuracy: 0.7047\n",
            "Epoch 99/200\n",
            "240/240 [==============================] - 37s 154ms/step - loss: 0.7198 - accuracy: 0.6471 - val_loss: 0.7204 - val_accuracy: 0.6867\n",
            "Epoch 100/200\n",
            "240/240 [==============================] - 37s 153ms/step - loss: 0.7180 - accuracy: 0.6456 - val_loss: 0.6916 - val_accuracy: 0.6812\n",
            "Epoch 101/200\n",
            "240/240 [==============================] - 39s 163ms/step - loss: 0.7075 - accuracy: 0.6677 - val_loss: 0.6869 - val_accuracy: 0.6883\n",
            "Epoch 102/200\n",
            "240/240 [==============================] - 37s 154ms/step - loss: 0.7142 - accuracy: 0.6680 - val_loss: 0.6571 - val_accuracy: 0.7227\n",
            "Epoch 103/200\n",
            "240/240 [==============================] - 39s 164ms/step - loss: 0.7003 - accuracy: 0.6560 - val_loss: 0.6750 - val_accuracy: 0.6922\n",
            "Epoch 104/200\n",
            "240/240 [==============================] - 37s 155ms/step - loss: 0.7016 - accuracy: 0.6685 - val_loss: 0.6699 - val_accuracy: 0.7086\n",
            "Epoch 105/200\n",
            "240/240 [==============================] - 39s 162ms/step - loss: 0.7166 - accuracy: 0.6586 - val_loss: 0.7180 - val_accuracy: 0.6680\n",
            "Epoch 106/200\n",
            "240/240 [==============================] - 37s 154ms/step - loss: 0.6922 - accuracy: 0.6695 - val_loss: 0.6522 - val_accuracy: 0.7109\n",
            "Epoch 107/200\n",
            "240/240 [==============================] - 39s 162ms/step - loss: 0.6913 - accuracy: 0.6771 - val_loss: 0.6441 - val_accuracy: 0.7133\n",
            "Epoch 108/200\n",
            "240/240 [==============================] - 37s 154ms/step - loss: 0.6918 - accuracy: 0.6659 - val_loss: 0.6645 - val_accuracy: 0.7117\n",
            "Epoch 109/200\n",
            "240/240 [==============================] - 39s 162ms/step - loss: 0.6885 - accuracy: 0.6750 - val_loss: 0.6659 - val_accuracy: 0.7031\n",
            "Epoch 110/200\n",
            "240/240 [==============================] - 37s 154ms/step - loss: 0.6971 - accuracy: 0.6682 - val_loss: 0.6620 - val_accuracy: 0.7070\n",
            "Epoch 111/200\n",
            "240/240 [==============================] - 39s 164ms/step - loss: 0.6800 - accuracy: 0.6799 - val_loss: 0.6498 - val_accuracy: 0.7297\n",
            "Epoch 112/200\n",
            "240/240 [==============================] - 40s 165ms/step - loss: 0.6916 - accuracy: 0.6727 - val_loss: 0.6556 - val_accuracy: 0.7000\n",
            "Epoch 113/200\n",
            "240/240 [==============================] - 39s 162ms/step - loss: 0.6635 - accuracy: 0.6810 - val_loss: 0.6452 - val_accuracy: 0.7188\n",
            "Epoch 114/200\n",
            "240/240 [==============================] - 39s 162ms/step - loss: 0.6716 - accuracy: 0.6794 - val_loss: 0.6291 - val_accuracy: 0.7188\n",
            "Epoch 115/200\n",
            "240/240 [==============================] - 37s 154ms/step - loss: 0.6695 - accuracy: 0.6932 - val_loss: 0.6147 - val_accuracy: 0.7328\n",
            "Epoch 116/200\n",
            "240/240 [==============================] - 37s 154ms/step - loss: 0.6725 - accuracy: 0.6857 - val_loss: 0.6548 - val_accuracy: 0.6992\n",
            "Epoch 117/200\n",
            "240/240 [==============================] - 39s 163ms/step - loss: 0.6629 - accuracy: 0.6802 - val_loss: 0.5874 - val_accuracy: 0.7781\n",
            "Epoch 118/200\n",
            "240/240 [==============================] - 39s 163ms/step - loss: 0.6407 - accuracy: 0.7068 - val_loss: 0.6575 - val_accuracy: 0.7148\n",
            "Epoch 119/200\n",
            "240/240 [==============================] - 37s 153ms/step - loss: 0.6575 - accuracy: 0.6945 - val_loss: 0.6147 - val_accuracy: 0.7461\n",
            "Epoch 120/200\n",
            "240/240 [==============================] - 37s 155ms/step - loss: 0.6390 - accuracy: 0.6958 - val_loss: 0.5976 - val_accuracy: 0.7484\n",
            "Epoch 121/200\n",
            "240/240 [==============================] - 39s 163ms/step - loss: 0.6424 - accuracy: 0.6971 - val_loss: 0.7099 - val_accuracy: 0.6742\n",
            "Epoch 122/200\n",
            "240/240 [==============================] - 37s 155ms/step - loss: 0.6476 - accuracy: 0.7068 - val_loss: 0.5923 - val_accuracy: 0.7430\n",
            "Epoch 123/200\n",
            "240/240 [==============================] - 37s 153ms/step - loss: 0.6398 - accuracy: 0.6948 - val_loss: 0.6388 - val_accuracy: 0.7234\n",
            "Epoch 124/200\n",
            "240/240 [==============================] - 39s 162ms/step - loss: 0.6476 - accuracy: 0.7023 - val_loss: 0.5741 - val_accuracy: 0.7500\n",
            "Epoch 125/200\n",
            "240/240 [==============================] - 37s 154ms/step - loss: 0.6375 - accuracy: 0.7047 - val_loss: 0.6525 - val_accuracy: 0.7031\n",
            "Epoch 126/200\n",
            "240/240 [==============================] - 37s 153ms/step - loss: 0.6308 - accuracy: 0.7052 - val_loss: 0.5961 - val_accuracy: 0.7500\n",
            "Epoch 127/200\n",
            "240/240 [==============================] - 39s 163ms/step - loss: 0.6371 - accuracy: 0.7055 - val_loss: 0.6079 - val_accuracy: 0.7227\n",
            "Epoch 128/200\n",
            "240/240 [==============================] - 37s 155ms/step - loss: 0.6297 - accuracy: 0.7182 - val_loss: 0.6038 - val_accuracy: 0.7312\n",
            "Epoch 129/200\n",
            "240/240 [==============================] - 39s 162ms/step - loss: 0.6176 - accuracy: 0.7151 - val_loss: 0.5986 - val_accuracy: 0.7469\n",
            "Epoch 130/200\n",
            "240/240 [==============================] - 39s 162ms/step - loss: 0.6194 - accuracy: 0.7112 - val_loss: 0.5933 - val_accuracy: 0.7430\n",
            "Epoch 131/200\n",
            "240/240 [==============================] - 39s 162ms/step - loss: 0.6164 - accuracy: 0.7182 - val_loss: 0.5747 - val_accuracy: 0.7563\n",
            "Epoch 132/200\n",
            "240/240 [==============================] - 37s 155ms/step - loss: 0.6065 - accuracy: 0.7234 - val_loss: 0.5605 - val_accuracy: 0.7711\n",
            "Epoch 133/200\n",
            "240/240 [==============================] - 37s 154ms/step - loss: 0.6114 - accuracy: 0.7195 - val_loss: 0.5926 - val_accuracy: 0.7602\n",
            "Epoch 134/200\n",
            "240/240 [==============================] - 37s 153ms/step - loss: 0.5988 - accuracy: 0.7336 - val_loss: 0.6402 - val_accuracy: 0.7063\n",
            "Epoch 135/200\n",
            "240/240 [==============================] - 37s 155ms/step - loss: 0.5986 - accuracy: 0.7234 - val_loss: 0.5653 - val_accuracy: 0.7617\n",
            "Epoch 136/200\n",
            "240/240 [==============================] - 37s 153ms/step - loss: 0.6126 - accuracy: 0.7221 - val_loss: 0.5770 - val_accuracy: 0.7383\n",
            "Epoch 137/200\n",
            "240/240 [==============================] - 39s 163ms/step - loss: 0.6072 - accuracy: 0.7289 - val_loss: 0.6421 - val_accuracy: 0.7102\n",
            "Epoch 138/200\n",
            "240/240 [==============================] - 37s 154ms/step - loss: 0.5979 - accuracy: 0.7289 - val_loss: 0.5878 - val_accuracy: 0.7484\n",
            "Epoch 139/200\n",
            "240/240 [==============================] - 37s 153ms/step - loss: 0.6053 - accuracy: 0.7245 - val_loss: 0.5196 - val_accuracy: 0.7930\n",
            "Epoch 140/200\n",
            "240/240 [==============================] - 39s 164ms/step - loss: 0.5951 - accuracy: 0.7344 - val_loss: 0.5262 - val_accuracy: 0.7891\n",
            "Epoch 141/200\n",
            "240/240 [==============================] - 37s 154ms/step - loss: 0.5881 - accuracy: 0.7336 - val_loss: 0.5467 - val_accuracy: 0.7586\n",
            "Epoch 142/200\n",
            "240/240 [==============================] - 37s 154ms/step - loss: 0.5913 - accuracy: 0.7372 - val_loss: 0.5408 - val_accuracy: 0.7906\n",
            "Epoch 143/200\n",
            "240/240 [==============================] - 37s 154ms/step - loss: 0.5808 - accuracy: 0.7359 - val_loss: 0.5245 - val_accuracy: 0.7820\n",
            "Epoch 144/200\n",
            "240/240 [==============================] - 37s 154ms/step - loss: 0.5876 - accuracy: 0.7344 - val_loss: 0.5930 - val_accuracy: 0.7352\n",
            "Epoch 145/200\n",
            "240/240 [==============================] - 37s 155ms/step - loss: 0.5914 - accuracy: 0.7318 - val_loss: 0.5296 - val_accuracy: 0.7820\n",
            "Epoch 146/200\n",
            "240/240 [==============================] - 39s 162ms/step - loss: 0.5740 - accuracy: 0.7388 - val_loss: 0.5274 - val_accuracy: 0.7797\n",
            "Epoch 147/200\n",
            "240/240 [==============================] - 37s 154ms/step - loss: 0.5729 - accuracy: 0.7464 - val_loss: 0.5307 - val_accuracy: 0.8031\n",
            "Epoch 148/200\n",
            "240/240 [==============================] - 39s 163ms/step - loss: 0.5637 - accuracy: 0.7482 - val_loss: 0.5024 - val_accuracy: 0.8180\n",
            "Epoch 149/200\n",
            "240/240 [==============================] - 37s 154ms/step - loss: 0.5628 - accuracy: 0.7576 - val_loss: 0.5100 - val_accuracy: 0.8094\n",
            "Epoch 150/200\n",
            "240/240 [==============================] - 39s 162ms/step - loss: 0.5588 - accuracy: 0.7505 - val_loss: 0.5375 - val_accuracy: 0.7859\n",
            "Epoch 151/200\n",
            "240/240 [==============================] - 39s 162ms/step - loss: 0.5665 - accuracy: 0.7531 - val_loss: 0.5185 - val_accuracy: 0.7984\n",
            "Epoch 152/200\n",
            "240/240 [==============================] - 38s 156ms/step - loss: 0.5588 - accuracy: 0.7471 - val_loss: 0.5614 - val_accuracy: 0.7711\n",
            "Epoch 153/200\n",
            "240/240 [==============================] - 37s 154ms/step - loss: 0.5550 - accuracy: 0.7466 - val_loss: 0.5459 - val_accuracy: 0.7883\n",
            "Epoch 154/200\n",
            "240/240 [==============================] - 39s 163ms/step - loss: 0.5480 - accuracy: 0.7581 - val_loss: 0.4879 - val_accuracy: 0.8250\n",
            "Epoch 155/200\n",
            "240/240 [==============================] - 37s 153ms/step - loss: 0.5440 - accuracy: 0.7557 - val_loss: 0.5120 - val_accuracy: 0.8016\n",
            "Epoch 156/200\n",
            "240/240 [==============================] - 39s 163ms/step - loss: 0.5510 - accuracy: 0.7628 - val_loss: 0.5142 - val_accuracy: 0.8016\n",
            "Epoch 157/200\n",
            "240/240 [==============================] - 39s 163ms/step - loss: 0.5534 - accuracy: 0.7599 - val_loss: 0.5041 - val_accuracy: 0.8055\n",
            "Epoch 158/200\n",
            "240/240 [==============================] - 39s 163ms/step - loss: 0.5370 - accuracy: 0.7698 - val_loss: 0.4593 - val_accuracy: 0.8305\n",
            "Epoch 159/200\n",
            "240/240 [==============================] - 39s 163ms/step - loss: 0.5282 - accuracy: 0.7651 - val_loss: 0.4574 - val_accuracy: 0.8367\n",
            "Epoch 160/200\n",
            "240/240 [==============================] - 37s 155ms/step - loss: 0.5197 - accuracy: 0.7771 - val_loss: 0.4744 - val_accuracy: 0.8109\n",
            "Epoch 161/200\n",
            "240/240 [==============================] - 39s 162ms/step - loss: 0.5363 - accuracy: 0.7690 - val_loss: 0.5174 - val_accuracy: 0.7852\n",
            "Epoch 162/200\n",
            "240/240 [==============================] - 39s 163ms/step - loss: 0.5466 - accuracy: 0.7521 - val_loss: 0.5029 - val_accuracy: 0.7773\n",
            "Epoch 163/200\n",
            "240/240 [==============================] - 39s 164ms/step - loss: 0.5254 - accuracy: 0.7654 - val_loss: 0.4337 - val_accuracy: 0.8383\n",
            "Epoch 164/200\n",
            "240/240 [==============================] - 40s 168ms/step - loss: 0.5197 - accuracy: 0.7763 - val_loss: 0.5375 - val_accuracy: 0.7766\n",
            "Epoch 165/200\n",
            "240/240 [==============================] - 37s 155ms/step - loss: 0.5164 - accuracy: 0.7737 - val_loss: 0.5031 - val_accuracy: 0.7867\n",
            "Epoch 166/200\n",
            "240/240 [==============================] - 39s 163ms/step - loss: 0.5232 - accuracy: 0.7716 - val_loss: 0.5157 - val_accuracy: 0.7844\n",
            "Epoch 167/200\n",
            "240/240 [==============================] - 37s 156ms/step - loss: 0.5178 - accuracy: 0.7703 - val_loss: 0.4535 - val_accuracy: 0.8391\n",
            "Epoch 168/200\n",
            "240/240 [==============================] - 39s 163ms/step - loss: 0.5022 - accuracy: 0.7797 - val_loss: 0.4541 - val_accuracy: 0.8242\n",
            "Epoch 169/200\n",
            "240/240 [==============================] - 39s 163ms/step - loss: 0.5060 - accuracy: 0.7839 - val_loss: 0.4718 - val_accuracy: 0.8094\n",
            "Epoch 170/200\n",
            "240/240 [==============================] - 37s 154ms/step - loss: 0.4995 - accuracy: 0.7799 - val_loss: 0.4296 - val_accuracy: 0.8375\n",
            "Epoch 171/200\n",
            "240/240 [==============================] - 39s 163ms/step - loss: 0.4846 - accuracy: 0.7859 - val_loss: 0.4801 - val_accuracy: 0.7969\n",
            "Epoch 172/200\n",
            "240/240 [==============================] - 37s 154ms/step - loss: 0.5105 - accuracy: 0.7828 - val_loss: 0.4238 - val_accuracy: 0.8406\n",
            "Epoch 173/200\n",
            "240/240 [==============================] - 37s 155ms/step - loss: 0.4984 - accuracy: 0.7745 - val_loss: 0.4993 - val_accuracy: 0.7852\n",
            "Epoch 174/200\n",
            "240/240 [==============================] - 37s 155ms/step - loss: 0.5058 - accuracy: 0.7773 - val_loss: 0.4085 - val_accuracy: 0.8516\n",
            "Epoch 175/200\n",
            "240/240 [==============================] - 37s 153ms/step - loss: 0.4948 - accuracy: 0.7846 - val_loss: 0.4459 - val_accuracy: 0.8336\n",
            "Epoch 176/200\n",
            "240/240 [==============================] - 39s 162ms/step - loss: 0.4814 - accuracy: 0.7849 - val_loss: 0.4564 - val_accuracy: 0.8281\n",
            "Epoch 177/200\n",
            "240/240 [==============================] - 39s 163ms/step - loss: 0.4933 - accuracy: 0.7896 - val_loss: 0.5065 - val_accuracy: 0.7922\n",
            "Epoch 178/200\n",
            "240/240 [==============================] - 37s 155ms/step - loss: 0.4825 - accuracy: 0.7904 - val_loss: 0.4478 - val_accuracy: 0.8336\n",
            "Epoch 179/200\n",
            "240/240 [==============================] - 37s 153ms/step - loss: 0.4956 - accuracy: 0.7773 - val_loss: 0.4167 - val_accuracy: 0.8398\n",
            "Epoch 180/200\n",
            "240/240 [==============================] - 39s 162ms/step - loss: 0.4776 - accuracy: 0.7922 - val_loss: 0.4059 - val_accuracy: 0.8500\n",
            "Epoch 181/200\n",
            "240/240 [==============================] - 40s 165ms/step - loss: 0.4770 - accuracy: 0.7940 - val_loss: 0.4279 - val_accuracy: 0.8445\n",
            "Epoch 182/200\n",
            "240/240 [==============================] - 39s 163ms/step - loss: 0.4790 - accuracy: 0.7961 - val_loss: 0.4156 - val_accuracy: 0.8430\n",
            "Epoch 183/200\n",
            "240/240 [==============================] - 37s 155ms/step - loss: 0.4601 - accuracy: 0.8018 - val_loss: 0.4321 - val_accuracy: 0.8258\n",
            "Epoch 184/200\n",
            "240/240 [==============================] - 37s 153ms/step - loss: 0.4750 - accuracy: 0.7888 - val_loss: 0.4096 - val_accuracy: 0.8516\n",
            "Epoch 185/200\n",
            "240/240 [==============================] - 39s 162ms/step - loss: 0.4794 - accuracy: 0.7961 - val_loss: 0.3792 - val_accuracy: 0.8625\n",
            "Epoch 186/200\n",
            "240/240 [==============================] - 39s 163ms/step - loss: 0.4758 - accuracy: 0.7977 - val_loss: 0.4724 - val_accuracy: 0.8109\n",
            "Epoch 187/200\n",
            "240/240 [==============================] - 37s 154ms/step - loss: 0.4584 - accuracy: 0.8018 - val_loss: 0.4782 - val_accuracy: 0.8141\n",
            "Epoch 188/200\n",
            "240/240 [==============================] - 37s 153ms/step - loss: 0.4418 - accuracy: 0.8094 - val_loss: 0.4014 - val_accuracy: 0.8539\n",
            "Epoch 189/200\n",
            "240/240 [==============================] - 40s 166ms/step - loss: 0.4554 - accuracy: 0.8070 - val_loss: 0.4516 - val_accuracy: 0.8195\n",
            "Epoch 190/200\n",
            "240/240 [==============================] - 37s 154ms/step - loss: 0.4524 - accuracy: 0.8112 - val_loss: 0.4019 - val_accuracy: 0.8555\n",
            "Epoch 191/200\n",
            "240/240 [==============================] - 39s 162ms/step - loss: 0.4541 - accuracy: 0.8099 - val_loss: 0.4380 - val_accuracy: 0.8227\n",
            "Epoch 192/200\n",
            "240/240 [==============================] - 39s 162ms/step - loss: 0.4476 - accuracy: 0.8094 - val_loss: 0.3812 - val_accuracy: 0.8617\n",
            "Epoch 193/200\n",
            "240/240 [==============================] - 39s 163ms/step - loss: 0.4353 - accuracy: 0.8141 - val_loss: 0.4583 - val_accuracy: 0.8078\n",
            "Epoch 194/200\n",
            "240/240 [==============================] - 39s 164ms/step - loss: 0.4380 - accuracy: 0.8148 - val_loss: 0.4461 - val_accuracy: 0.8281\n",
            "Epoch 195/200\n",
            "240/240 [==============================] - 37s 154ms/step - loss: 0.4414 - accuracy: 0.8135 - val_loss: 0.4341 - val_accuracy: 0.8281\n",
            "Epoch 196/200\n",
            "240/240 [==============================] - 39s 163ms/step - loss: 0.4168 - accuracy: 0.8169 - val_loss: 0.3448 - val_accuracy: 0.8703\n",
            "Epoch 197/200\n",
            "240/240 [==============================] - 39s 162ms/step - loss: 0.4344 - accuracy: 0.8180 - val_loss: 0.4286 - val_accuracy: 0.8336\n",
            "Epoch 198/200\n",
            "240/240 [==============================] - 37s 155ms/step - loss: 0.4469 - accuracy: 0.8078 - val_loss: 0.3863 - val_accuracy: 0.8531\n",
            "Epoch 199/200\n",
            "240/240 [==============================] - 39s 163ms/step - loss: 0.4137 - accuracy: 0.8247 - val_loss: 0.3892 - val_accuracy: 0.8586\n",
            "Epoch 200/200\n",
            "240/240 [==============================] - 39s 162ms/step - loss: 0.4085 - accuracy: 0.8279 - val_loss: 0.3486 - val_accuracy: 0.8734\n",
            "40/40 [==============================] - 4s 86ms/step - loss: 0.3424 - accuracy: 0.8750\n",
            "Test loss: 0.34\n",
            "Test accuracy: 87.5 %\n"
          ]
        }
      ],
      "source": [
        "# compile the model\n",
        "model = create_vit_classifier()\n",
        "model.compile(\n",
        "    optimizer=keras.optimizers.Adam(learning_rate=0.0001),\n",
        "    loss=keras.losses.CategoricalCrossentropy(),\n",
        "    metrics=[keras.metrics.CategoricalAccuracy(name=\"accuracy\")],\n",
        ")\n",
        "model.summary()\n",
        "# train the model\n",
        "history = model.fit(\n",
        "    x_train, y_train, batch_size=16, epochs=200, validation_split=0.25\n",
        ")\n",
        "\n",
        "# evaluate the model\n",
        "loss, accuracy = model.evaluate(x_test, y_test)\n",
        "print(f\"Test loss: {round(loss, 2)}\")\n",
        "print(f\"Test accuracy: {round(accuracy * 100, 2)} %\")"
      ]
    },
    {
      "cell_type": "code",
      "source": [
        "import matplotlib.pyplot as plt\n",
        "\n",
        "# summarize history for accuracy\n",
        "plt.plot(history.history['accuracy'],label=\"train_acc\")\n",
        "plt.plot(history.history['val_accuracy'],label=\"val_acc\")\n",
        "plt.title('model accuracy')\n",
        "plt.ylabel('accuracy')\n",
        "plt.xlabel('epoch')\n",
        "plt.legend(['Train', 'Validation'], loc='upper left')\n",
        "plt.savefig(\"/content/drive/MyDrive/Alzheimer disease Classification/accuracyplot.png\")\n",
        "plt.show()\n",
        "# summarize history for loss\n",
        "plt.plot(history.history['loss'],label=\"train_loss\")\n",
        "plt.plot(history.history['val_loss'],label=\"val_loss\")\n",
        "plt.title('model loss')\n",
        "plt.ylabel('loss')\n",
        "plt.xlabel('epoch')\n",
        "plt.legend(['Train', 'Validation'], loc='upper left')\n",
        "plt.savefig(\"/content/drive/MyDrive/Alzheimer disease Classification/lossplot.png\")\n",
        "plt.show()"
      ],
      "metadata": {
        "id": "6zWP3ZoCeCxu",
        "colab": {
          "base_uri": "https://localhost:8080/",
          "height": 573
        },
        "outputId": "6d974e87-b76a-45f3-de05-9f530b5514e3"
      },
      "execution_count": null,
      "outputs": [
        {
          "output_type": "display_data",
          "data": {
            "text/plain": [
              "<Figure size 432x288 with 1 Axes>"
            ],
            "image/png": "[encoded data removed]"
          },
          "metadata": {
            "needs_background": "light"
          }
        },
        {
          "output_type": "display_data",
          "data": {
            "text/plain": [
              "<Figure size 432x288 with 1 Axes>"
            ],
            "image/png": "[encoded data removed]"
          },
          "metadata": {
            "needs_background": "light"
          }
        }
      ]
    },
    {
      "cell_type": "code",
      "source": [
        "y_pred=model.predict(x_test)"
      ],
      "metadata": {
        "id": "cUBmEUggfBQw",
        "colab": {
          "base_uri": "https://localhost:8080/"
        },
        "outputId": "4a7f5db2-8d86-417b-f1b1-cd494e18eae6"
      },
      "execution_count": null,
      "outputs": [
        {
          "output_type": "stream",
          "name": "stdout",
          "text": [
            "40/40 [==============================] - 4s 72ms/step\n"
          ]
        }
      ]
    },
    {
      "cell_type": "code",
      "source": [],
      "metadata": {
        "id": "8_loCdcPfxmS"
      },
      "execution_count": null,
      "outputs": []
    },
    {
      "cell_type": "code",
      "source": [
        "y_pred=np.argmax(y_pred,axis=1)"
      ],
      "metadata": {
        "id": "562YlM4HfoKJ"
      },
      "execution_count": null,
      "outputs": []
    },
    {
      "cell_type": "code",
      "source": [
        "y_pred"
      ],
      "metadata": {
        "id": "8Z5qLFv6fumD",
        "colab": {
          "base_uri": "https://localhost:8080/"
        },
        "outputId": "dc8d057b-1665-4096-fb18-05ad49afca98"
      },
      "execution_count": null,
      "outputs": [
        {
          "output_type": "execute_result",
          "data": {
            "text/plain": [
              "array([0, 0, 1, ..., 1, 1, 2])"
            ]
          },
          "metadata": {},
          "execution_count": 31
        }
      ]
    },
    {
      "cell_type": "code",
      "source": [
        "len(y_test),len(y_pred)"
      ],
      "metadata": {
        "id": "cgYld1gvf-3g",
        "colab": {
          "base_uri": "https://localhost:8080/"
        },
        "outputId": "b50ad7a0-41c1-47c9-d781-5400f442682a"
      },
      "execution_count": null,
      "outputs": [
        {
          "output_type": "execute_result",
          "data": {
            "text/plain": [
              "(1280, 1280)"
            ]
          },
          "metadata": {},
          "execution_count": 32
        }
      ]
    },
    {
      "cell_type": "code",
      "source": [
        "y_test=np.argmax(y_test, axis=1)"
      ],
      "metadata": {
        "id": "3x3kB7xBgXWi"
      },
      "execution_count": null,
      "outputs": []
    },
    {
      "cell_type": "code",
      "source": [
        "from sklearn.metrics import confusion_matrix\n",
        "cm = confusion_matrix(y_test, y_pred)\n",
        "cm"
      ],
      "metadata": {
        "id": "i6V6fdAMgGWz",
        "colab": {
          "base_uri": "https://localhost:8080/"
        },
        "outputId": "740ffb51-5c38-47f5-bd42-258073ac9c75"
      },
      "execution_count": null,
      "outputs": [
        {
          "output_type": "execute_result",
          "data": {
            "text/plain": [
              "array([[151,  26,   8,   1],\n",
              "       [ 15, 414,  47,   0],\n",
              "       [ 10,  87, 509,   0],\n",
              "       [  1,   2,   0,   9]])"
            ]
          },
          "metadata": {},
          "execution_count": 34
        }
      ]
    },
    {
      "cell_type": "code",
      "source": [
        "plt.figure(figsize = (10,7))\n",
        "sns.heatmap(cm, annot=True, fmt='g')\n",
        "plt.savefig(\"/content/drive/MyDrive/Alzheimer disease Classification/CM.png\")"
      ],
      "metadata": {
        "id": "kXZqPvi-hdzU",
        "colab": {
          "base_uri": "https://localhost:8080/",
          "height": 428
        },
        "outputId": "42b6e246-c648-4bdc-c8e3-62996f0b0df0"
      },
      "execution_count": null,
      "outputs": [
        {
          "output_type": "display_data",
          "data": {
            "text/plain": [
              "<Figure size 720x504 with 2 Axes>"
            ],
            "image/png": "[encoded data removed]"
          },
          "metadata": {
            "needs_background": "light"
          }
        }
      ]
    },
    {
      "cell_type": "code",
      "source": [
        "classes = ['Mild_Demented','Very_Mild_Demented','Non_Demented','Moderate_Demented']  \n",
        "from sklearn.metrics import classification_report\n",
        "print(classification_report(y_test, y_pred,target_names=classes))\n"
      ],
      "metadata": {
        "id": "NVH3gVgWh4fQ",
        "colab": {
          "base_uri": "https://localhost:8080/"
        },
        "outputId": "684290b3-2a92-4f6c-f8b9-8cfb5f18d3c2"
      },
      "execution_count": null,
      "outputs": [
        {
          "output_type": "stream",
          "name": "stdout",
          "text": [
            "                    precision    recall  f1-score   support\n",
            "\n",
            "     Mild_Demented       0.85      0.81      0.83       186\n",
            "Very_Mild_Demented       0.78      0.87      0.82       476\n",
            "      Non_Demented       0.90      0.84      0.87       606\n",
            " Moderate_Demented       0.90      0.75      0.82        12\n",
            "\n",
            "          accuracy                           0.85      1280\n",
            "         macro avg       0.86      0.82      0.84      1280\n",
            "      weighted avg       0.85      0.85      0.85      1280\n",
            "\n"
          ]
        }
      ]
    },
    {
      "cell_type": "code",
      "execution_count": null,
      "metadata": {
        "id": "_7ulyglGEs_f"
      },
      "outputs": [],
      "source": [
        "# # plot the training loss and accuracy\n",
        "# N = 150\n",
        "# plt.style.use(\"ggplot\")\n",
        "# # make plot bigger\n",
        "# plt.rcParams[\"figure.figsize\"] = (12, 8)\n",
        "# plt.figure()\n",
        "# plt.plot(np.arange(0, N), history.history[\"loss\"], label=\"train_loss\")\n",
        "# plt.plot(np.arange(0, N), history.history[\"val_loss\"], label=\"val_loss\")\n",
        "# plt.plot(np.arange(0, N), history.history[\"accuracy\"], label=\"train_acc\")\n",
        "# plt.plot(np.arange(0, N), history.history[\"val_accuracy\"], label=\"val_acc\")\n",
        "# plt.title(\"Training Loss and Accuracy on Dataset\")\n",
        "# plt.xlabel(\"Epoch #\")\n",
        "# plt.ylabel(\"Loss/Accuracy\")\n",
        "# plt.legend(loc=\"lower left\")\n",
        "# plt.savefig(\"lossplot.png\")\n"
      ]
    },
    {
      "cell_type": "code",
      "execution_count": null,
      "metadata": {
        "id": "71DlD-0WFbkJ",
        "colab": {
          "base_uri": "https://localhost:8080/",
          "height": 762
        },
        "outputId": "e2a163b4-0606-4b63-bdcc-bb5b5c0b981c"
      },
      "outputs": [
        {
          "output_type": "error",
          "ename": "ValueError",
          "evalue": "ignored",
          "traceback": [
            "\u001b[0;31m---------------------------------------------------------------------------\u001b[0m",
            "\u001b[0;31mValueError\u001b[0m                                Traceback (most recent call last)",
            "\u001b[0;32m<ipython-input-38-be8a86687990>\u001b[0m in \u001b[0;36m<module>\u001b[0;34m\u001b[0m\n\u001b[1;32m      1\u001b[0m \u001b[0;31m# evaluate the model\u001b[0m\u001b[0;34m\u001b[0m\u001b[0;34m\u001b[0m\u001b[0;34m\u001b[0m\u001b[0m\n\u001b[0;32m----> 2\u001b[0;31m \u001b[0mloss\u001b[0m\u001b[0;34m,\u001b[0m \u001b[0maccuracy\u001b[0m \u001b[0;34m=\u001b[0m \u001b[0mmodel\u001b[0m\u001b[0;34m.\u001b[0m\u001b[0mevaluate\u001b[0m\u001b[0;34m(\u001b[0m\u001b[0mx_test\u001b[0m\u001b[0;34m,\u001b[0m \u001b[0my_test\u001b[0m\u001b[0;34m)\u001b[0m\u001b[0;34m\u001b[0m\u001b[0;34m\u001b[0m\u001b[0m\n\u001b[0m\u001b[1;32m      3\u001b[0m \u001b[0mprint\u001b[0m\u001b[0;34m(\u001b[0m\u001b[0;34mf\"Test loss: {round(loss, 2)}\"\u001b[0m\u001b[0;34m)\u001b[0m\u001b[0;34m\u001b[0m\u001b[0;34m\u001b[0m\u001b[0m\n\u001b[1;32m      4\u001b[0m \u001b[0mprint\u001b[0m\u001b[0;34m(\u001b[0m\u001b[0;34mf\"Test accuracy: {round(accuracy * 100, 2)} %\"\u001b[0m\u001b[0;34m)\u001b[0m\u001b[0;34m\u001b[0m\u001b[0;34m\u001b[0m\u001b[0m\n",
            "\u001b[0;32m/usr/local/lib/python3.8/dist-packages/keras/utils/traceback_utils.py\u001b[0m in \u001b[0;36merror_handler\u001b[0;34m(*args, **kwargs)\u001b[0m\n\u001b[1;32m     65\u001b[0m     \u001b[0;32mexcept\u001b[0m \u001b[0mException\u001b[0m \u001b[0;32mas\u001b[0m \u001b[0me\u001b[0m\u001b[0;34m:\u001b[0m  \u001b[0;31m# pylint: disable=broad-except\u001b[0m\u001b[0;34m\u001b[0m\u001b[0;34m\u001b[0m\u001b[0m\n\u001b[1;32m     66\u001b[0m       \u001b[0mfiltered_tb\u001b[0m \u001b[0;34m=\u001b[0m \u001b[0m_process_traceback_frames\u001b[0m\u001b[0;34m(\u001b[0m\u001b[0me\u001b[0m\u001b[0;34m.\u001b[0m\u001b[0m__traceback__\u001b[0m\u001b[0;34m)\u001b[0m\u001b[0;34m\u001b[0m\u001b[0;34m\u001b[0m\u001b[0m\n\u001b[0;32m---> 67\u001b[0;31m       \u001b[0;32mraise\u001b[0m \u001b[0me\u001b[0m\u001b[0;34m.\u001b[0m\u001b[0mwith_traceback\u001b[0m\u001b[0;34m(\u001b[0m\u001b[0mfiltered_tb\u001b[0m\u001b[0;34m)\u001b[0m \u001b[0;32mfrom\u001b[0m \u001b[0;32mNone\u001b[0m\u001b[0;34m\u001b[0m\u001b[0;34m\u001b[0m\u001b[0m\n\u001b[0m\u001b[1;32m     68\u001b[0m     \u001b[0;32mfinally\u001b[0m\u001b[0;34m:\u001b[0m\u001b[0;34m\u001b[0m\u001b[0;34m\u001b[0m\u001b[0m\n\u001b[1;32m     69\u001b[0m       \u001b[0;32mdel\u001b[0m \u001b[0mfiltered_tb\u001b[0m\u001b[0;34m\u001b[0m\u001b[0;34m\u001b[0m\u001b[0m\n",
            "\u001b[0;32m/usr/local/lib/python3.8/dist-packages/keras/engine/training.py\u001b[0m in \u001b[0;36mtf__test_function\u001b[0;34m(iterator)\u001b[0m\n\u001b[1;32m     13\u001b[0m                 \u001b[0;32mtry\u001b[0m\u001b[0;34m:\u001b[0m\u001b[0;34m\u001b[0m\u001b[0;34m\u001b[0m\u001b[0m\n\u001b[1;32m     14\u001b[0m                     \u001b[0mdo_return\u001b[0m \u001b[0;34m=\u001b[0m \u001b[0;32mTrue\u001b[0m\u001b[0;34m\u001b[0m\u001b[0;34m\u001b[0m\u001b[0m\n\u001b[0;32m---> 15\u001b[0;31m                     \u001b[0mretval_\u001b[0m \u001b[0;34m=\u001b[0m \u001b[0mag__\u001b[0m\u001b[0;34m.\u001b[0m\u001b[0mconverted_call\u001b[0m\u001b[0;34m(\u001b[0m\u001b[0mag__\u001b[0m\u001b[0;34m.\u001b[0m\u001b[0mld\u001b[0m\u001b[0;34m(\u001b[0m\u001b[0mstep_function\u001b[0m\u001b[0;34m)\u001b[0m\u001b[0;34m,\u001b[0m \u001b[0;34m(\u001b[0m\u001b[0mag__\u001b[0m\u001b[0;34m.\u001b[0m\u001b[0mld\u001b[0m\u001b[0;34m(\u001b[0m\u001b[0mself\u001b[0m\u001b[0;34m)\u001b[0m\u001b[0;34m,\u001b[0m \u001b[0mag__\u001b[0m\u001b[0;34m.\u001b[0m\u001b[0mld\u001b[0m\u001b[0;34m(\u001b[0m\u001b[0miterator\u001b[0m\u001b[0;34m)\u001b[0m\u001b[0;34m)\u001b[0m\u001b[0;34m,\u001b[0m \u001b[0;32mNone\u001b[0m\u001b[0;34m,\u001b[0m \u001b[0mfscope\u001b[0m\u001b[0;34m)\u001b[0m\u001b[0;34m\u001b[0m\u001b[0;34m\u001b[0m\u001b[0m\n\u001b[0m\u001b[1;32m     16\u001b[0m                 \u001b[0;32mexcept\u001b[0m\u001b[0;34m:\u001b[0m\u001b[0;34m\u001b[0m\u001b[0;34m\u001b[0m\u001b[0m\n\u001b[1;32m     17\u001b[0m                     \u001b[0mdo_return\u001b[0m \u001b[0;34m=\u001b[0m \u001b[0;32mFalse\u001b[0m\u001b[0;34m\u001b[0m\u001b[0;34m\u001b[0m\u001b[0m\n",
            "\u001b[0;31mValueError\u001b[0m: in user code:\n\n    File \"/usr/local/lib/python3.8/dist-packages/keras/engine/training.py\", line 1557, in test_function  *\n        return step_function(self, iterator)\n    File \"/usr/local/lib/python3.8/dist-packages/keras/engine/training.py\", line 1546, in step_function  **\n        outputs = model.distribute_strategy.run(run_step, args=(data,))\n    File \"/usr/local/lib/python3.8/dist-packages/keras/engine/training.py\", line 1535, in run_step  **\n        outputs = model.test_step(data)\n    File \"/usr/local/lib/python3.8/dist-packages/keras/engine/training.py\", line 1501, in test_step\n        self.compute_loss(x, y, y_pred, sample_weight)\n    File \"/usr/local/lib/python3.8/dist-packages/keras/engine/training.py\", line 948, in compute_loss\n        return self.compiled_loss(\n    File \"/usr/local/lib/python3.8/dist-packages/keras/engine/compile_utils.py\", line 201, in __call__\n        loss_value = loss_obj(y_t, y_p, sample_weight=sw)\n    File \"/usr/local/lib/python3.8/dist-packages/keras/losses.py\", line 139, in __call__\n        losses = call_fn(y_true, y_pred)\n    File \"/usr/local/lib/python3.8/dist-packages/keras/losses.py\", line 243, in call  **\n        return ag_fn(y_true, y_pred, **self._fn_kwargs)\n    File \"/usr/local/lib/python3.8/dist-packages/keras/losses.py\", line 1787, in categorical_crossentropy\n        return backend.categorical_crossentropy(\n    File \"/usr/local/lib/python3.8/dist-packages/keras/backend.py\", line 5119, in categorical_crossentropy\n        target.shape.assert_is_compatible_with(output.shape)\n\n    ValueError: Shapes (32, 1) and (32, 4) are incompatible\n"
          ]
        }
      ],
      "source": [
        "# evaluate the model\n",
        "loss, accuracy = model.evaluate(x_test, y_test)\n",
        "print(f\"Test loss: {round(loss, 2)}\")\n",
        "print(f\"Test accuracy: {round(accuracy * 100, 2)} %\")"
      ]
    },
    {
      "cell_type": "code",
      "execution_count": null,
      "metadata": {
        "id": "Jhfo-C6XG30l"
      },
      "outputs": [],
      "source": []
    },
    {
      "cell_type": "code",
      "execution_count": null,
      "metadata": {
        "id": "_ZLllGx7HgpS"
      },
      "outputs": [],
      "source": [
        "#y_train classes\n",
        "y_train_classes = np.argmax(y_train, axis=1)\n",
        "print(y_train_classes)"
      ]
    },
    {
      "cell_type": "code",
      "execution_count": null,
      "metadata": {
        "id": "UTxlCipxHj1K"
      },
      "outputs": [],
      "source": [
        "plt.figure(figsize=(15, 15))\n",
        "# plot loss during training\n",
        "pyplot.subplot(221)\n",
        "pyplot.title('Loss')\n",
        "pyplot.plot(history.history['loss'], label='train')\n",
        "pyplot.plot(history.history['val_loss'], label='test')\n",
        "pyplot.legend()\n",
        "# plot accuracy during training\n",
        "pyplot.subplot(222)\n",
        "pyplot.title('Accuracy')\n",
        "pyplot.plot(history.history['accuracy'], label='train')\n",
        "pyplot.plot(history.history['val_accuracy'], label='test')\n",
        "pyplot.legend()\n",
        "pyplot.show()"
      ]
    },
    {
      "cell_type": "code",
      "execution_count": null,
      "metadata": {
        "id": "DPSpIcimJnG7"
      },
      "outputs": [],
      "source": [
        "# history\n",
        "print(f'The model has a best accuracy of {round(max(history.history[\"accuracy\"])*100,2)}% and a best loss of {round(min(history.history[\"loss\"]),2)}')\n",
        " \n"
      ]
    }
  ],
  "metadata": {
    "accelerator": "GPU",
    "colab": {
      "provenance": []
    },
    "gpuClass": "standard",
    "kernelspec": {
      "display_name": "Python 3",
      "language": "python",
      "name": "python3"
    },
    "language_info": {
      "codemirror_mode": {
        "name": "ipython",
        "version": 3
      },
      "file_extension": ".py",
      "mimetype": "text/x-python",
      "name": "python",
      "nbconvert_exporter": "python",
      "pygments_lexer": "ipython3",
      "version": "3.7.12"
    }
  },
  "nbformat": 4,
  "nbformat_minor": 0
}